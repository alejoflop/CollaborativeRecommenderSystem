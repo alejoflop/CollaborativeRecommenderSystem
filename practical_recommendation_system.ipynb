{
 "cells": [
  {
   "cell_type": "markdown",
   "id": "8a002dd9",
   "metadata": {},
   "source": [
    "https://www.geeksforgeeks.org/recommendation-system-in-python/"
   ]
  },
  {
   "cell_type": "code",
   "execution_count": 1,
   "id": "c9f402fd",
   "metadata": {},
   "outputs": [],
   "source": [
    "import numpy as np\n",
    "import pandas as pd\n",
    "import sklearn\n",
    "import matplotlib.pyplot as plt\n",
    "import seaborn as sns\n",
    "import warnings\n",
    "warnings.simplefilter(action='ignore', category=FutureWarning)"
   ]
  },
  {
   "cell_type": "code",
   "execution_count": 2,
   "id": "74f98b87",
   "metadata": {},
   "outputs": [
    {
     "name": "stdout",
     "output_type": "stream",
     "text": [
      "   userId  movieId  rating  timestamp\n",
      "0       1        1     4.0  964982703\n",
      "1       1        3     4.0  964981247\n",
      "2       1        6     4.0  964982224\n",
      "3       1       47     5.0  964983815\n",
      "4       1       50     5.0  964982931\n"
     ]
    }
   ],
   "source": [
    "# Cargando el dataset de ratings\n",
    "ratings = pd.read_csv(\"https://s3-us-west-2.amazonaws.com/recommender-tutorial/ratings.csv\")\n",
    "print(ratings.head())"
   ]
  },
  {
   "cell_type": "code",
   "execution_count": 3,
   "id": "f3f03a88",
   "metadata": {},
   "outputs": [
    {
     "name": "stdout",
     "output_type": "stream",
     "text": [
      "   movieId                               title  \\\n",
      "0        1                    Toy Story (1995)   \n",
      "1        2                      Jumanji (1995)   \n",
      "2        3             Grumpier Old Men (1995)   \n",
      "3        4            Waiting to Exhale (1995)   \n",
      "4        5  Father of the Bride Part II (1995)   \n",
      "\n",
      "                                        genres  \n",
      "0  Adventure|Animation|Children|Comedy|Fantasy  \n",
      "1                   Adventure|Children|Fantasy  \n",
      "2                               Comedy|Romance  \n",
      "3                         Comedy|Drama|Romance  \n",
      "4                                       Comedy  \n"
     ]
    }
   ],
   "source": [
    "# Cargando el dataset de movie\n",
    "movies = pd.read_csv(\"https://s3-us-west-2.amazonaws.com/recommender-tutorial/movies.csv\")\n",
    "print(movies.head())"
   ]
  },
  {
   "cell_type": "markdown",
   "id": "309568a4",
   "metadata": {},
   "source": [
    "### Análisis Estadístico de Ratings"
   ]
  },
  {
   "cell_type": "code",
   "execution_count": 7,
   "id": "a807cf48",
   "metadata": {},
   "outputs": [
    {
     "name": "stdout",
     "output_type": "stream",
     "text": [
      "Número de ratings: 100836\n",
      "Número de movieId's unicas: 9724\n",
      "Número de usuarios unicos: 610\n",
      "Promedio de ratings por usuario: 165.3\n",
      "Promedio de ratings por película: 10.37\n"
     ]
    }
   ],
   "source": [
    "n_ratings = len(ratings)\n",
    "n_movies = len(ratings['movieId'].unique())\n",
    "n_users = len(ratings['userId'].unique())\n",
    "\n",
    "print(f\"Número de ratings: {n_ratings}\")\n",
    "print(f\"Número de movieId's unicas: {n_movies}\")\n",
    "print(f\"Número de usuarios unicos: {n_users}\")\n",
    "print(f\"Promedio de ratings por usuario: {round(n_ratings/n_users, 2)}\")\n",
    "print(f\"Promedio de ratings por película: {round(n_ratings/n_movies, 2)}\")"
   ]
  },
  {
   "cell_type": "markdown",
   "id": "a82ef7b7",
   "metadata": {},
   "source": [
    "### Frecuencia de ratings de los usuarios"
   ]
  },
  {
   "cell_type": "code",
   "execution_count": 10,
   "id": "4e894a17",
   "metadata": {},
   "outputs": [
    {
     "data": {
      "text/html": [
       "<div>\n",
       "<style scoped>\n",
       "    .dataframe tbody tr th:only-of-type {\n",
       "        vertical-align: middle;\n",
       "    }\n",
       "\n",
       "    .dataframe tbody tr th {\n",
       "        vertical-align: top;\n",
       "    }\n",
       "\n",
       "    .dataframe thead th {\n",
       "        text-align: right;\n",
       "    }\n",
       "</style>\n",
       "<table border=\"1\" class=\"dataframe\">\n",
       "  <thead>\n",
       "    <tr style=\"text-align: right;\">\n",
       "      <th></th>\n",
       "      <th>userId</th>\n",
       "      <th>n_ratings</th>\n",
       "    </tr>\n",
       "  </thead>\n",
       "  <tbody>\n",
       "    <tr>\n",
       "      <th>0</th>\n",
       "      <td>1</td>\n",
       "      <td>232</td>\n",
       "    </tr>\n",
       "    <tr>\n",
       "      <th>1</th>\n",
       "      <td>2</td>\n",
       "      <td>29</td>\n",
       "    </tr>\n",
       "    <tr>\n",
       "      <th>2</th>\n",
       "      <td>3</td>\n",
       "      <td>39</td>\n",
       "    </tr>\n",
       "    <tr>\n",
       "      <th>3</th>\n",
       "      <td>4</td>\n",
       "      <td>216</td>\n",
       "    </tr>\n",
       "    <tr>\n",
       "      <th>4</th>\n",
       "      <td>5</td>\n",
       "      <td>44</td>\n",
       "    </tr>\n",
       "    <tr>\n",
       "      <th>...</th>\n",
       "      <td>...</td>\n",
       "      <td>...</td>\n",
       "    </tr>\n",
       "    <tr>\n",
       "      <th>605</th>\n",
       "      <td>606</td>\n",
       "      <td>1115</td>\n",
       "    </tr>\n",
       "    <tr>\n",
       "      <th>606</th>\n",
       "      <td>607</td>\n",
       "      <td>187</td>\n",
       "    </tr>\n",
       "    <tr>\n",
       "      <th>607</th>\n",
       "      <td>608</td>\n",
       "      <td>831</td>\n",
       "    </tr>\n",
       "    <tr>\n",
       "      <th>608</th>\n",
       "      <td>609</td>\n",
       "      <td>37</td>\n",
       "    </tr>\n",
       "    <tr>\n",
       "      <th>609</th>\n",
       "      <td>610</td>\n",
       "      <td>1302</td>\n",
       "    </tr>\n",
       "  </tbody>\n",
       "</table>\n",
       "<p>610 rows × 2 columns</p>\n",
       "</div>"
      ],
      "text/plain": [
       "     userId  n_ratings\n",
       "0         1        232\n",
       "1         2         29\n",
       "2         3         39\n",
       "3         4        216\n",
       "4         5         44\n",
       "..      ...        ...\n",
       "605     606       1115\n",
       "606     607        187\n",
       "607     608        831\n",
       "608     609         37\n",
       "609     610       1302\n",
       "\n",
       "[610 rows x 2 columns]"
      ]
     },
     "execution_count": 10,
     "metadata": {},
     "output_type": "execute_result"
    }
   ],
   "source": [
    "user_freq = ratings[['userId', 'movieId']].groupby('userId').count().reset_index()\n",
    "user_freq.columns = ['userId', 'n_ratings']\n",
    "user_freq"
   ]
  },
  {
   "cell_type": "markdown",
   "id": "a6e826d3",
   "metadata": {},
   "source": [
    "### Análisis del rating de las películas"
   ]
  },
  {
   "cell_type": "code",
   "execution_count": 13,
   "id": "d5e6ff15",
   "metadata": {},
   "outputs": [],
   "source": [
    "# Encuentra las pelicultas calificadas más najo y más alto\n",
    "mean_rating = ratings.groupby('movieId')[['rating']].mean()\n",
    "\n",
    "# Películas peor calificadas\n",
    "lowest_rated = mean_rating['rating'].idxmin()\n",
    "movies.loc[movies['movieId'] == lowest_rated]\n",
    "\n",
    "# Películas mejor calificadas\n",
    "highest_rated = mean_rating['rating'].idxmax()\n",
    "movies.loc[movies['movieId'] == highest_rated]\n",
    "\n",
    "# Muestra el número de personas que calificaron las mejor calificadas\n",
    "ratings[ratings['movieId'] == highest_rated]\n",
    "\n",
    "# Muestra el número de personas que calificaron las peor calificadas\n",
    "ratings[ratings['movieId'] == lowest_rated]\n",
    "\n",
    "# Las anteriores peliculas tienen datos muy bajos. Vamos a usar el promedio bayesiano\n",
    "movie_stats = ratings.groupby('movieId')[['rating']].agg(['count', 'mean'])\n",
    "movie_stats.columns = movie_stats.columns.droplevel()"
   ]
  },
  {
   "cell_type": "markdown",
   "id": "0b5170ad",
   "metadata": {},
   "source": [
    "### Creando la matriz user-item"
   ]
  },
  {
   "cell_type": "code",
   "execution_count": 14,
   "id": "f9e1a747",
   "metadata": {},
   "outputs": [],
   "source": [
    "# Ahora creamos la matriz user-item scipy csr matrix\n",
    "from scipy.sparse import csr_matrix\n",
    "\n",
    "def create_matrix(df):\n",
    "    \n",
    "    N = len(df['userId'].unique())\n",
    "    M = len(df['movieId'].unique())\n",
    "    \n",
    "    # Mapea los Id's a los indices\n",
    "    user_mapper = dict(zip(np.unique(df['userId']), list(range(N))))\n",
    "    movie_mapper = dict(zip(np.unique(df['movieId']), list(range(M))))\n",
    "    \n",
    "    # Mapea indices a los Id's\n",
    "    user_inv_mapper = dict(zip(list(range(N)), np.unique(df['userId'])))\n",
    "    movie_inv_mapper = dict(zip(list(range(M)), np.unique(df['movieId'])))\n",
    "    \n",
    "    user_index = [user_mapper[i] for i in df['userId']]\n",
    "    movie_index = [movie_mapper[i] for i in df['movieId']]\n",
    "    \n",
    "    X = csr_matrix((df['rating'], (movie_index, user_index)), shape = (M, N))\n",
    "    \n",
    "    return X, user_mapper, movie_mapper, user_inv_mapper, movie_inv_mapper\n",
    "     \n",
    "X, user_mapper, movie_mapper, user_inv_mapper, movie_inv_mapper = create_matrix(ratings)"
   ]
  },
  {
   "cell_type": "markdown",
   "id": "114034a7",
   "metadata": {},
   "source": [
    "### Análisis de películas similares"
   ]
  },
  {
   "cell_type": "code",
   "execution_count": 20,
   "id": "5b373f79",
   "metadata": {},
   "outputs": [
    {
     "name": "stdout",
     "output_type": "stream",
     "text": [
      "Desde que has visto: Grumpier Old Men (1995)\n",
      "Grumpy Old Men (1993)\n",
      "Striptease (1996)\n",
      "Nutty Professor, The (1996)\n",
      "Twister (1996)\n",
      "Father of the Bride Part II (1995)\n",
      "Broken Arrow (1996)\n",
      "Bio-Dome (1996)\n",
      "Truth About Cats & Dogs, The (1996)\n",
      "Sabrina (1995)\n",
      "Birdcage, The (1996)\n"
     ]
    }
   ],
   "source": [
    "# Encuentra películas similares usando K-Nearest Neighbors (KNN)\n",
    "from sklearn.neighbors import NearestNeighbors\n",
    "\n",
    "def find_similar_movies(movie_id, X, k, metric='cosine', show_distance=False):\n",
    "    \n",
    "    neighbour_ids = []\n",
    "    \n",
    "    movie_ind = movie_mapper[movie_id]\n",
    "    movi_vec = X[movie_ind]\n",
    "    k += 1\n",
    "    kNN = NearestNeighbors(n_neighbors=k, algorithm=\"brute\", metric=metric)\n",
    "    kNN.fit(X)\n",
    "    movi_vec = movi_vec.reshape(1, -1)\n",
    "    neighbour = kNN.kneighbors(movi_vec, return_distance=show_distance)\n",
    "    \n",
    "    for i in range(0, k):\n",
    "        n = neighbour.item(i)\n",
    "        neighbour_ids.append(movie_inv_mapper[n])\n",
    "    neighbour_ids.pop(0)\n",
    "    \n",
    "    return neighbour_ids\n",
    "\n",
    "movie_titles = dict(zip(movies['movieId'], movies['title']))\n",
    "\n",
    "movie_id = 3\n",
    "\n",
    "similar_ids = find_similar_movies(movie_id, X, k=10)\n",
    "movie_title = movie_titles[movie_id]\n",
    "\n",
    "print(f\"Desde que has visto: {movie_title}\")\n",
    "for i in similar_ids:\n",
    "    print(movie_titles[i])"
   ]
  },
  {
   "cell_type": "markdown",
   "id": "eda1d2c3",
   "metadata": {},
   "source": [
    "### Recomendaciones de películas con refenrencias en las preferencias del usuario"
   ]
  },
  {
   "cell_type": "code",
   "execution_count": 26,
   "id": "557a13c7",
   "metadata": {},
   "outputs": [],
   "source": [
    "def recommend_movies_for_user(user_id, X, user_mapper, movie_mapper, movie_inv_mapper, k=10):\n",
    "    df1 = ratings[ratings['userId'] == user_id]\n",
    "    \n",
    "    if df1.empty:\n",
    "        print(f\"El usuario con ID {user_id} no existe\")\n",
    "        return\n",
    "    \n",
    "    movie_id = df1[df1['rating'] == max(df1['rating'])]['movieId'].iloc[0]\n",
    "    \n",
    "    movie_titles = dict(zip(movies['movieId'], movies['title']))\n",
    "    \n",
    "    similar_ids = find_similar_movies(movie_id, X, k)\n",
    "    movie_title = movie_titles.get(movie_id, \"Película no encontrada\")\n",
    "    \n",
    "    if movie_title == \"Película no encontrada\":\n",
    "        print(f\"La película con ID {movie_id} no ha sido encontrada.\")\n",
    "        \n",
    "    print(f\"Si has visto la película {movie_id} también te podría interesar: \")\n",
    "    for i in similar_ids:\n",
    "        print(movie_titles.get(i, \"Película no encontrada\"))"
   ]
  },
  {
   "cell_type": "code",
   "execution_count": 31,
   "id": "af237793",
   "metadata": {},
   "outputs": [
    {
     "name": "stdout",
     "output_type": "stream",
     "text": [
      "Si has visto la película 32 también te podría interesar: \n",
      "Pulp Fiction (1994)\n",
      "Terminator 2: Judgment Day (1991)\n",
      "Independence Day (a.k.a. ID4) (1996)\n",
      "Seven (a.k.a. Se7en) (1995)\n",
      "Fargo (1996)\n",
      "Fugitive, The (1993)\n",
      "Usual Suspects, The (1995)\n",
      "Jurassic Park (1993)\n",
      "Star Wars: Episode IV - A New Hope (1977)\n",
      "Heat (1995)\n"
     ]
    }
   ],
   "source": [
    "user_id = 150\n",
    "recommend_movies_for_user(user_id, X, user_mapper, movie_mapper, movie_inv_mapper)"
   ]
  },
  {
   "cell_type": "code",
   "execution_count": 33,
   "id": "1890e137",
   "metadata": {},
   "outputs": [
    {
     "name": "stdout",
     "output_type": "stream",
     "text": [
      "El usuario con ID 2300 no existe\n"
     ]
    }
   ],
   "source": [
    "user_id = 2300\n",
    "recommend_movies_for_user(user_id, X, user_mapper, movie_mapper, movie_inv_mapper, k=10)"
   ]
  }
 ],
 "metadata": {
  "kernelspec": {
   "display_name": "Python 3 (ipykernel)",
   "language": "python",
   "name": "python3"
  },
  "language_info": {
   "codemirror_mode": {
    "name": "ipython",
    "version": 3
   },
   "file_extension": ".py",
   "mimetype": "text/x-python",
   "name": "python",
   "nbconvert_exporter": "python",
   "pygments_lexer": "ipython3",
   "version": "3.9.15"
  }
 },
 "nbformat": 4,
 "nbformat_minor": 5
}
