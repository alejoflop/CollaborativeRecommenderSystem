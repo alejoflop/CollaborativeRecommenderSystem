{
 "cells": [
  {
   "cell_type": "markdown",
   "id": "a33302c3",
   "metadata": {},
   "source": [
    "Info\n",
    "https://notebooks.gesis.org/binder/jupyter/user/ipython-ipython-in-depth-p1yfe52k/notebooks/binder/Index.ipynb\n",
    "\n",
    "Project\n",
    "https://towardsdatascience.com/how-to-build-a-movie-recommendation-system-67e321339109\n",
    "\n",
    "Other resource\n",
    "https://github.com/nishantml/NETFLIX-MOVIE-RECOMMENDATION-SYSTEM/blob/master/Netflix_Movie.ipynb"
   ]
  },
  {
   "cell_type": "code",
   "execution_count": 1,
   "id": "c251c094",
   "metadata": {},
   "outputs": [
    {
     "data": {
      "text/html": [
       "<div>\n",
       "<style scoped>\n",
       "    .dataframe tbody tr th:only-of-type {\n",
       "        vertical-align: middle;\n",
       "    }\n",
       "\n",
       "    .dataframe tbody tr th {\n",
       "        vertical-align: top;\n",
       "    }\n",
       "\n",
       "    .dataframe thead th {\n",
       "        text-align: right;\n",
       "    }\n",
       "</style>\n",
       "<table border=\"1\" class=\"dataframe\">\n",
       "  <thead>\n",
       "    <tr style=\"text-align: right;\">\n",
       "      <th></th>\n",
       "      <th>userId</th>\n",
       "      <th>movieId</th>\n",
       "      <th>rating</th>\n",
       "      <th>timestamp</th>\n",
       "    </tr>\n",
       "  </thead>\n",
       "  <tbody>\n",
       "    <tr>\n",
       "      <th>0</th>\n",
       "      <td>1</td>\n",
       "      <td>296</td>\n",
       "      <td>5.0</td>\n",
       "      <td>1147880044</td>\n",
       "    </tr>\n",
       "    <tr>\n",
       "      <th>1</th>\n",
       "      <td>1</td>\n",
       "      <td>306</td>\n",
       "      <td>3.5</td>\n",
       "      <td>1147868817</td>\n",
       "    </tr>\n",
       "    <tr>\n",
       "      <th>2</th>\n",
       "      <td>1</td>\n",
       "      <td>307</td>\n",
       "      <td>5.0</td>\n",
       "      <td>1147868828</td>\n",
       "    </tr>\n",
       "    <tr>\n",
       "      <th>3</th>\n",
       "      <td>1</td>\n",
       "      <td>665</td>\n",
       "      <td>5.0</td>\n",
       "      <td>1147878820</td>\n",
       "    </tr>\n",
       "    <tr>\n",
       "      <th>4</th>\n",
       "      <td>1</td>\n",
       "      <td>899</td>\n",
       "      <td>3.5</td>\n",
       "      <td>1147868510</td>\n",
       "    </tr>\n",
       "    <tr>\n",
       "      <th>...</th>\n",
       "      <td>...</td>\n",
       "      <td>...</td>\n",
       "      <td>...</td>\n",
       "      <td>...</td>\n",
       "    </tr>\n",
       "    <tr>\n",
       "      <th>25000090</th>\n",
       "      <td>162541</td>\n",
       "      <td>50872</td>\n",
       "      <td>4.5</td>\n",
       "      <td>1240953372</td>\n",
       "    </tr>\n",
       "    <tr>\n",
       "      <th>25000091</th>\n",
       "      <td>162541</td>\n",
       "      <td>55768</td>\n",
       "      <td>2.5</td>\n",
       "      <td>1240951998</td>\n",
       "    </tr>\n",
       "    <tr>\n",
       "      <th>25000092</th>\n",
       "      <td>162541</td>\n",
       "      <td>56176</td>\n",
       "      <td>2.0</td>\n",
       "      <td>1240950697</td>\n",
       "    </tr>\n",
       "    <tr>\n",
       "      <th>25000093</th>\n",
       "      <td>162541</td>\n",
       "      <td>58559</td>\n",
       "      <td>4.0</td>\n",
       "      <td>1240953434</td>\n",
       "    </tr>\n",
       "    <tr>\n",
       "      <th>25000094</th>\n",
       "      <td>162541</td>\n",
       "      <td>63876</td>\n",
       "      <td>5.0</td>\n",
       "      <td>1240952515</td>\n",
       "    </tr>\n",
       "  </tbody>\n",
       "</table>\n",
       "<p>25000095 rows × 4 columns</p>\n",
       "</div>"
      ],
      "text/plain": [
       "          userId  movieId  rating   timestamp\n",
       "0              1      296     5.0  1147880044\n",
       "1              1      306     3.5  1147868817\n",
       "2              1      307     5.0  1147868828\n",
       "3              1      665     5.0  1147878820\n",
       "4              1      899     3.5  1147868510\n",
       "...          ...      ...     ...         ...\n",
       "25000090  162541    50872     4.5  1240953372\n",
       "25000091  162541    55768     2.5  1240951998\n",
       "25000092  162541    56176     2.0  1240950697\n",
       "25000093  162541    58559     4.0  1240953434\n",
       "25000094  162541    63876     5.0  1240952515\n",
       "\n",
       "[25000095 rows x 4 columns]"
      ]
     },
     "execution_count": 1,
     "metadata": {},
     "output_type": "execute_result"
    }
   ],
   "source": [
    "import pandas as pd\n",
    "data = pd.read_csv(\"ml-25m/ratings.csv\")\n",
    "data"
   ]
  },
  {
   "cell_type": "code",
   "execution_count": 2,
   "id": "e3c96432",
   "metadata": {},
   "outputs": [
    {
     "data": {
      "text/html": [
       "<div>\n",
       "<style scoped>\n",
       "    .dataframe tbody tr th:only-of-type {\n",
       "        vertical-align: middle;\n",
       "    }\n",
       "\n",
       "    .dataframe tbody tr th {\n",
       "        vertical-align: top;\n",
       "    }\n",
       "\n",
       "    .dataframe thead th {\n",
       "        text-align: right;\n",
       "    }\n",
       "</style>\n",
       "<table border=\"1\" class=\"dataframe\">\n",
       "  <thead>\n",
       "    <tr style=\"text-align: right;\">\n",
       "      <th></th>\n",
       "      <th>userId</th>\n",
       "      <th>movieId</th>\n",
       "      <th>rating</th>\n",
       "    </tr>\n",
       "  </thead>\n",
       "  <tbody>\n",
       "    <tr>\n",
       "      <th>0</th>\n",
       "      <td>1</td>\n",
       "      <td>296</td>\n",
       "      <td>5.0</td>\n",
       "    </tr>\n",
       "    <tr>\n",
       "      <th>1</th>\n",
       "      <td>1</td>\n",
       "      <td>306</td>\n",
       "      <td>3.5</td>\n",
       "    </tr>\n",
       "    <tr>\n",
       "      <th>2</th>\n",
       "      <td>1</td>\n",
       "      <td>307</td>\n",
       "      <td>5.0</td>\n",
       "    </tr>\n",
       "    <tr>\n",
       "      <th>3</th>\n",
       "      <td>1</td>\n",
       "      <td>665</td>\n",
       "      <td>5.0</td>\n",
       "    </tr>\n",
       "    <tr>\n",
       "      <th>4</th>\n",
       "      <td>1</td>\n",
       "      <td>899</td>\n",
       "      <td>3.5</td>\n",
       "    </tr>\n",
       "  </tbody>\n",
       "</table>\n",
       "</div>"
      ],
      "text/plain": [
       "   userId  movieId  rating\n",
       "0       1      296     5.0\n",
       "1       1      306     3.5\n",
       "2       1      307     5.0\n",
       "3       1      665     5.0\n",
       "4       1      899     3.5"
      ]
     },
     "execution_count": 2,
     "metadata": {},
     "output_type": "execute_result"
    }
   ],
   "source": [
    "data = data.drop('timestamp', axis=1)\n",
    "data.head()"
   ]
  },
  {
   "cell_type": "markdown",
   "id": "25079b62",
   "metadata": {},
   "source": [
    "# Splitting the data"
   ]
  },
  {
   "cell_type": "code",
   "execution_count": 3,
   "id": "fa1061b6",
   "metadata": {},
   "outputs": [
    {
     "data": {
      "text/plain": [
       "(25000095, 3)"
      ]
     },
     "execution_count": 3,
     "metadata": {},
     "output_type": "execute_result"
    }
   ],
   "source": [
    "data.shape"
   ]
  },
  {
   "cell_type": "code",
   "execution_count": 4,
   "id": "d8fc1ea4",
   "metadata": {},
   "outputs": [],
   "source": [
    "train_data = data.iloc[:int(data.shape[0]*0.80)]\n",
    "test_data = data.iloc[int(data.shape[0]*0.80):]"
   ]
  },
  {
   "cell_type": "code",
   "execution_count": 5,
   "id": "a935d618",
   "metadata": {},
   "outputs": [
    {
     "data": {
      "text/plain": [
       "(20000076, 3)"
      ]
     },
     "execution_count": 5,
     "metadata": {},
     "output_type": "execute_result"
    }
   ],
   "source": [
    "train_data.shape"
   ]
  },
  {
   "cell_type": "code",
   "execution_count": 6,
   "id": "cf437842",
   "metadata": {},
   "outputs": [
    {
     "data": {
      "text/plain": [
       "(5000019, 3)"
      ]
     },
     "execution_count": 6,
     "metadata": {},
     "output_type": "execute_result"
    }
   ],
   "source": [
    "test_data.shape"
   ]
  },
  {
   "cell_type": "markdown",
   "id": "c21f840d",
   "metadata": {},
   "source": [
    "# Matrix Factorization"
   ]
  },
  {
   "cell_type": "code",
   "execution_count": 7,
   "id": "bf6e80f0",
   "metadata": {},
   "outputs": [],
   "source": [
    "from surprise import SVD\n",
    "import numpy as np\n",
    "import surprise\n",
    "from surprise import Reader, Dataset\n",
    "from scipy import sparse"
   ]
  },
  {
   "cell_type": "code",
   "execution_count": 8,
   "id": "9f3d3bc6",
   "metadata": {},
   "outputs": [],
   "source": [
    "# It is to specify how to read the dataframe.\n",
    "# for our dataframe, we don't have to specify anything extra..\n",
    "reader = Reader(rating_scale=(1,5))\n",
    "\n",
    "# create the traindata from the dataframe...\n",
    "train_data_mf = Dataset.load_from_df(train_data[['userId', 'movieId', 'rating']], reader)\n",
    "\n",
    "# build the trainset from traindata.., It is of dataset format from surprise library..\n",
    "trainset = train_data_mf.build_full_trainset() "
   ]
  },
  {
   "cell_type": "code",
   "execution_count": 9,
   "id": "78c9e071",
   "metadata": {},
   "outputs": [],
   "source": [
    "# create the testata from the dataframe...\n",
    "test_data_mf = Dataset.load_from_df(test_data[['userId', 'movieId', 'rating']], reader)\n",
    "\n",
    "# build the testset from traindata.., It is of dataset format from surprise library..\n",
    "testset = test_data_mf.build_full_trainset() "
   ]
  },
  {
   "cell_type": "code",
   "execution_count": 10,
   "id": "f1be61cf",
   "metadata": {},
   "outputs": [
    {
     "name": "stdout",
     "output_type": "stream",
     "text": [
      "Processing epoch 0\n",
      "Processing epoch 1\n",
      "Processing epoch 2\n",
      "Processing epoch 3\n",
      "Processing epoch 4\n",
      "Processing epoch 5\n",
      "Processing epoch 6\n",
      "Processing epoch 7\n",
      "Processing epoch 8\n",
      "Processing epoch 9\n",
      "Processing epoch 10\n",
      "Processing epoch 11\n",
      "Processing epoch 12\n",
      "Processing epoch 13\n",
      "Processing epoch 14\n",
      "Processing epoch 15\n",
      "Processing epoch 16\n",
      "Processing epoch 17\n",
      "Processing epoch 18\n",
      "Processing epoch 19\n"
     ]
    },
    {
     "data": {
      "text/plain": [
       "<surprise.prediction_algorithms.matrix_factorization.SVD at 0x1b016d9aa60>"
      ]
     },
     "execution_count": 10,
     "metadata": {},
     "output_type": "execute_result"
    }
   ],
   "source": [
    "svd = SVD(n_factors=100, biased=True, random_state=15, verbose=True)\n",
    "svd.fit(trainset)"
   ]
  },
  {
   "cell_type": "code",
   "execution_count": 11,
   "id": "39a685af",
   "metadata": {},
   "outputs": [],
   "source": [
    "# Guradando las predicciones de entrenamiento y obteniendolas del trainset\n",
    "train_preds = svd.test(trainset.build_testset())\n",
    "\n",
    "train_pred_mf = np.array([pred.est for pred in train_preds])"
   ]
  },
  {
   "cell_type": "code",
   "execution_count": 12,
   "id": "69cc94a9",
   "metadata": {},
   "outputs": [
    {
     "data": {
      "text/plain": [
       "array([4.49664335, 4.02944301, 3.84726905, ..., 3.80010959, 1.64490751,\n",
       "       3.02036228])"
      ]
     },
     "execution_count": 12,
     "metadata": {},
     "output_type": "execute_result"
    }
   ],
   "source": [
    "train_pred_mf"
   ]
  },
  {
   "cell_type": "code",
   "execution_count": 13,
   "id": "7f3992b7",
   "metadata": {},
   "outputs": [],
   "source": [
    "# Guardando las predicciones de prueba y obteniendolas del testset\n",
    "test_preds = svd.test(testset.build_testset())\n",
    "\n",
    "test_pred_mf = np.array([pred.est for pred in test_preds])"
   ]
  },
  {
   "cell_type": "code",
   "execution_count": 14,
   "id": "72aa60bb",
   "metadata": {},
   "outputs": [
    {
     "data": {
      "text/plain": [
       "array([3.59513273, 2.87269608, 2.81276874, ..., 2.37310274, 4.11912542,\n",
       "       3.72471638])"
      ]
     },
     "execution_count": 14,
     "metadata": {},
     "output_type": "execute_result"
    }
   ],
   "source": [
    "test_pred_mf"
   ]
  },
  {
   "cell_type": "markdown",
   "id": "49e23c06",
   "metadata": {},
   "source": [
    "# Preparando el data frame de entrenamiento"
   ]
  },
  {
   "cell_type": "code",
   "execution_count": 15,
   "id": "83ce918b",
   "metadata": {},
   "outputs": [],
   "source": [
    "# Creando una matriz dispersa (sparse matrix)\n",
    "\n",
    "train_sparse_matrix = sparse.csr_matrix((train_data.rating.values, (train_data.userId.values, train_data.movieId.values)))"
   ]
  },
  {
   "cell_type": "code",
   "execution_count": 16,
   "id": "5964d218",
   "metadata": {},
   "outputs": [
    {
     "data": {
      "text/plain": [
       "{'global': 3.5336391971710506}"
      ]
     },
     "execution_count": 16,
     "metadata": {},
     "output_type": "execute_result"
    }
   ],
   "source": [
    "#Promedio global de las peliculas por los usuarios\n",
    "train_averages = dict()\n",
    "\n",
    "#Obtener el promedio glob al the raitings in nuestro set de entrenamiento\n",
    "train_global_average = train_sparse_matrix.sum()/train_sparse_matrix.count_nonzero()\n",
    "train_averages['global'] = train_global_average\n",
    "train_averages"
   ]
  },
  {
   "cell_type": "code",
   "execution_count": 17,
   "id": "354399c4",
   "metadata": {},
   "outputs": [],
   "source": [
    "# Obtener el promedio de los usuarios en un diccionario (key: user_id / movie_id, value: abg raiting)\n",
    "\n",
    "def get_average_raitings(sparse_matrix, of_users):\n",
    "    \n",
    "    # Promedio de ratings de usuarios/axes\n",
    "    ax = 1 if of_users else 0 # 1 - User axes, 0 - Movie axes\n",
    "    \n",
    "    # \".A1\" es para convertir Column_Matrix a 1-D numpy array\n",
    "    sum_of_ratings = sparse_matrix.sum(axis=ax).A1\n",
    "    # Matriz booleana de matrices (Si un usuario calificó esa película o no)\n",
    "    is_rated = sparse_matrix != 0\n",
    "    # No de raitings de cada usuario o película\n",
    "    no_of_ratings = is_rated.sum(axis=ax).A1\n",
    "    \n",
    "    # max_user y max_movie ids en una matriz dispersa\n",
    "    u,m = sparse_matrix.shape\n",
    "    # Crear un diccionario de usuarios y sus ratings promedio\n",
    "    average_ratings = { i : sum_of_ratings[i]/no_of_ratings[i] for i in range(u if of_users else m) if no_of_ratings[i] != 0}\n",
    "    \n",
    "    # Devovler el diccionario the ratings promedio\n",
    "    return average_ratings"
   ]
  },
  {
   "cell_type": "code",
   "execution_count": 18,
   "id": "779dc573",
   "metadata": {},
   "outputs": [
    {
     "name": "stdout",
     "output_type": "stream",
     "text": [
      "\n",
      "Rating promedio del usuario 25:  3.528735632183908\n"
     ]
    }
   ],
   "source": [
    "# Raiting promedio obtenido por un usario\n",
    "train_averages['user'] = get_average_raitings(train_sparse_matrix, of_users=True)\n",
    "print('\\nRating promedio del usuario 25: ', train_averages['user'][25])"
   ]
  },
  {
   "cell_type": "code",
   "execution_count": 19,
   "id": "bfa48ec8",
   "metadata": {},
   "outputs": [
    {
     "name": "stdout",
     "output_type": "stream",
     "text": [
      "\n",
      "Rating promedio de la película 40:  3.6320907617504052\n"
     ]
    }
   ],
   "source": [
    "# Raiting promedio para una película\n",
    "train_averages['movie'] = get_average_raitings(train_sparse_matrix, of_users=False)\n",
    "print('\\nRating promedio de la película 40: ', train_averages['movie'][40])"
   ]
  },
  {
   "cell_type": "code",
   "execution_count": 20,
   "id": "e29b417f",
   "metadata": {},
   "outputs": [],
   "source": [
    "# Obtener usuarios, películas and ratings de nuestra matriz dispersa de meustras de entrenamiento\n",
    "train_users, train_movies, train_ratings = sparse.find(train_sparse_matrix)"
   ]
  },
  {
   "cell_type": "code",
   "execution_count": 35,
   "id": "3c10114d",
   "metadata": {
    "scrolled": true
   },
   "outputs": [
    {
     "name": "stdout",
     "output_type": "stream",
     "text": [
      "Done for 10000 rows----- 0:00:01.087627\n",
      "Done for 20000 rows----- 0:00:01.090104\n",
      "Done for 30000 rows----- 0:00:01.089482\n",
      "Done for 40000 rows----- 0:00:01.080652\n",
      "Done for 50000 rows----- 0:00:01.091237\n",
      "Done for 60000 rows----- 0:00:01.114781\n",
      "Done for 70000 rows----- 0:00:01.078519\n",
      "Done for 80000 rows----- 0:00:01.083465\n",
      "Done for 90000 rows----- 0:00:01.100253\n",
      "Done for 100000 rows----- 0:00:01.089602\n",
      "Done for 110000 rows----- 0:00:01.098609\n",
      "Done for 120000 rows----- 0:00:01.106828\n",
      "Done for 130000 rows----- 0:00:01.079515\n",
      "Done for 140000 rows----- 0:00:01.107912\n",
      "Done for 150000 rows----- 0:00:01.076762\n",
      "Done for 160000 rows----- 0:00:01.069529\n",
      "Done for 170000 rows----- 0:00:01.086905\n",
      "Done for 180000 rows----- 0:00:01.068193\n",
      "Done for 190000 rows----- 0:00:01.085950\n",
      "Done for 200000 rows----- 0:00:01.062238\n",
      "Done for 210000 rows----- 0:00:01.084103\n",
      "Done for 220000 rows----- 0:00:01.068498\n",
      "Done for 230000 rows----- 0:00:01.116157\n",
      "Done for 240000 rows----- 0:00:01.092231\n"
     ]
    },
    {
     "ename": "KeyboardInterrupt",
     "evalue": "",
     "output_type": "error",
     "traceback": [
      "\u001b[1;31m---------------------------------------------------------------------------\u001b[0m",
      "\u001b[1;31mKeyboardInterrupt\u001b[0m                         Traceback (most recent call last)",
      "\u001b[1;32m~\\AppData\\Local\\Temp\\ipykernel_14288\\1751918220.py\u001b[0m in \u001b[0;36m<module>\u001b[1;34m\u001b[0m\n\u001b[0;32m     21\u001b[0m             \u001b[1;31m#--------------------- Ratings by \"user\"  to similar movies of \"movie\" ---------------------\u001b[0m\u001b[1;33m\u001b[0m\u001b[1;33m\u001b[0m\u001b[0m\n\u001b[0;32m     22\u001b[0m             \u001b[1;31m# compute the similar movies of the \"movie\"\u001b[0m\u001b[1;33m\u001b[0m\u001b[1;33m\u001b[0m\u001b[0m\n\u001b[1;32m---> 23\u001b[1;33m             \u001b[0mmovie_sim\u001b[0m \u001b[1;33m=\u001b[0m \u001b[0mcosine_similarity\u001b[0m\u001b[1;33m(\u001b[0m\u001b[0mtrain_sparse_matrix\u001b[0m\u001b[1;33m[\u001b[0m\u001b[1;33m:\u001b[0m\u001b[1;33m,\u001b[0m\u001b[0mmovie\u001b[0m\u001b[1;33m]\u001b[0m\u001b[1;33m.\u001b[0m\u001b[0mT\u001b[0m\u001b[1;33m,\u001b[0m \u001b[0mtrain_sparse_matrix\u001b[0m\u001b[1;33m.\u001b[0m\u001b[0mT\u001b[0m\u001b[1;33m)\u001b[0m\u001b[1;33m.\u001b[0m\u001b[0mravel\u001b[0m\u001b[1;33m(\u001b[0m\u001b[1;33m)\u001b[0m\u001b[1;33m\u001b[0m\u001b[1;33m\u001b[0m\u001b[0m\n\u001b[0m\u001b[0;32m     24\u001b[0m             \u001b[0mtop_sim_movies\u001b[0m \u001b[1;33m=\u001b[0m \u001b[0mmovie_sim\u001b[0m\u001b[1;33m.\u001b[0m\u001b[0margsort\u001b[0m\u001b[1;33m(\u001b[0m\u001b[1;33m)\u001b[0m\u001b[1;33m[\u001b[0m\u001b[1;33m:\u001b[0m\u001b[1;33m:\u001b[0m\u001b[1;33m-\u001b[0m\u001b[1;36m1\u001b[0m\u001b[1;33m]\u001b[0m\u001b[1;33m[\u001b[0m\u001b[1;36m1\u001b[0m\u001b[1;33m:\u001b[0m\u001b[1;33m]\u001b[0m \u001b[1;31m# we are ignoring 'The User' from its similar users.\u001b[0m\u001b[1;33m\u001b[0m\u001b[1;33m\u001b[0m\u001b[0m\n\u001b[0;32m     25\u001b[0m             \u001b[1;31m# get the ratings of most similar movie rated by this user..\u001b[0m\u001b[1;33m\u001b[0m\u001b[1;33m\u001b[0m\u001b[0m\n",
      "\u001b[1;32m~\\anaconda3\\lib\\site-packages\\sklearn\\metrics\\pairwise.py\u001b[0m in \u001b[0;36mcosine_similarity\u001b[1;34m(X, Y, dense_output)\u001b[0m\n\u001b[0;32m   1255\u001b[0m         \u001b[0mY_normalized\u001b[0m \u001b[1;33m=\u001b[0m \u001b[0mX_normalized\u001b[0m\u001b[1;33m\u001b[0m\u001b[1;33m\u001b[0m\u001b[0m\n\u001b[0;32m   1256\u001b[0m     \u001b[1;32melse\u001b[0m\u001b[1;33m:\u001b[0m\u001b[1;33m\u001b[0m\u001b[1;33m\u001b[0m\u001b[0m\n\u001b[1;32m-> 1257\u001b[1;33m         \u001b[0mY_normalized\u001b[0m \u001b[1;33m=\u001b[0m \u001b[0mnormalize\u001b[0m\u001b[1;33m(\u001b[0m\u001b[0mY\u001b[0m\u001b[1;33m,\u001b[0m \u001b[0mcopy\u001b[0m\u001b[1;33m=\u001b[0m\u001b[1;32mTrue\u001b[0m\u001b[1;33m)\u001b[0m\u001b[1;33m\u001b[0m\u001b[1;33m\u001b[0m\u001b[0m\n\u001b[0m\u001b[0;32m   1258\u001b[0m \u001b[1;33m\u001b[0m\u001b[0m\n\u001b[0;32m   1259\u001b[0m     \u001b[0mK\u001b[0m \u001b[1;33m=\u001b[0m \u001b[0msafe_sparse_dot\u001b[0m\u001b[1;33m(\u001b[0m\u001b[0mX_normalized\u001b[0m\u001b[1;33m,\u001b[0m \u001b[0mY_normalized\u001b[0m\u001b[1;33m.\u001b[0m\u001b[0mT\u001b[0m\u001b[1;33m,\u001b[0m \u001b[0mdense_output\u001b[0m\u001b[1;33m=\u001b[0m\u001b[0mdense_output\u001b[0m\u001b[1;33m)\u001b[0m\u001b[1;33m\u001b[0m\u001b[1;33m\u001b[0m\u001b[0m\n",
      "\u001b[1;32m~\\anaconda3\\lib\\site-packages\\sklearn\\preprocessing\\_data.py\u001b[0m in \u001b[0;36mnormalize\u001b[1;34m(X, norm, axis, copy, return_norm)\u001b[0m\n\u001b[0;32m   1827\u001b[0m         \u001b[0mX\u001b[0m \u001b[1;33m/=\u001b[0m \u001b[0mnorms\u001b[0m\u001b[1;33m[\u001b[0m\u001b[1;33m:\u001b[0m\u001b[1;33m,\u001b[0m \u001b[0mnp\u001b[0m\u001b[1;33m.\u001b[0m\u001b[0mnewaxis\u001b[0m\u001b[1;33m]\u001b[0m\u001b[1;33m\u001b[0m\u001b[1;33m\u001b[0m\u001b[0m\n\u001b[0;32m   1828\u001b[0m \u001b[1;33m\u001b[0m\u001b[0m\n\u001b[1;32m-> 1829\u001b[1;33m     \u001b[1;32mif\u001b[0m \u001b[0maxis\u001b[0m \u001b[1;33m==\u001b[0m \u001b[1;36m0\u001b[0m\u001b[1;33m:\u001b[0m\u001b[1;33m\u001b[0m\u001b[1;33m\u001b[0m\u001b[0m\n\u001b[0m\u001b[0;32m   1830\u001b[0m         \u001b[0mX\u001b[0m \u001b[1;33m=\u001b[0m \u001b[0mX\u001b[0m\u001b[1;33m.\u001b[0m\u001b[0mT\u001b[0m\u001b[1;33m\u001b[0m\u001b[1;33m\u001b[0m\u001b[0m\n\u001b[0;32m   1831\u001b[0m \u001b[1;33m\u001b[0m\u001b[0m\n",
      "\u001b[1;31mKeyboardInterrupt\u001b[0m: "
     ]
    }
   ],
   "source": [
    "from datetime import datetime\n",
    "from sklearn.metrics.pairwise import cosine_similarity\n",
    "\n",
    "final_data = pd.DataFrame()\n",
    "count = 0\n",
    "for (user, movie, rating)  in zip(train_users, train_movies, train_ratings):\n",
    "            start = datetime.now()\n",
    "            \n",
    "            #print(user, movie)    \n",
    "            \n",
    "            # Calificacion de \"movie\" por similaridad de usuario de \"user\"\n",
    "            # Calcular la similaridad de usariores de \"user\"        \n",
    "            user_sim = cosine_similarity(train_sparse_matrix[user], train_sparse_matrix).ravel()\n",
    "            top_sim_users = user_sim.argsort()[::-1][1:] # we are ignoring 'The User' from its similar users.\n",
    "            # Obtener los ratings de los usuarios más similares para esta película\n",
    "            top_ratings = train_sparse_matrix[top_sim_users, movie].toarray().ravel()\n",
    "            # Vamos a hacer una longitud de \"5\" agregando el promedio de las peliculas\n",
    "            top_sim_users_ratings = list(top_ratings[top_ratings != 0][:5])\n",
    "            top_sim_users_ratings.extend([train_averages['movie'][movie]]*(5 - len(top_sim_users_ratings)))\n",
    "            # print(top_sim_users_ratings, end=\" \")    \n",
    "\n",
    "\n",
    "            # Ratings de \"user\" para peliculas similares de \"movie\"\n",
    "            # Calcular las peliculas similares de \"movie\"        \n",
    "            movie_sim = cosine_similarity(train_sparse_matrix[:,movie].T, train_sparse_matrix.T).ravel()\n",
    "            top_sim_movies = movie_sim.argsort()[::-1][1:] # we are ignoring 'The User' from its similar users.\n",
    "            # Obtener los ratings de las películas más similares calificados por el usuario\n",
    "            top_ratings = train_sparse_matrix[user, top_sim_movies].toarray().ravel()\n",
    "            # Vamos a hacer una longitud de \"5\" agregando el promedio de los usuarios\n",
    "            top_sim_movies_ratings = list(top_ratings[top_ratings != 0][:5])\n",
    "            top_sim_movies_ratings.extend([train_averages['user'][user]]*(5-len(top_sim_movies_ratings))) \n",
    "            # print(top_sim_movies_ratings, end=\" : -- \")\n",
    "\n",
    "            # Preparar la fila para guardarlo en un archivo\n",
    "            row = list()\n",
    "            row.append(user)\n",
    "            row.append(movie)\n",
    "            # Now add the other features to this data...\n",
    "            row.append(train_averages['global']) # first feature\n",
    "            # next 5 features are similar_users \"movie\" ratings\n",
    "            row.extend(top_sim_users_ratings)\n",
    "            # next 5 features are \"user\" ratings for similar_movies\n",
    "            row.extend(top_sim_movies_ratings)\n",
    "            # Avg_user rating\n",
    "            row.append(train_averages['user'][user])\n",
    "            # Avg_movie rating\n",
    "            row.append(train_averages['movie'][movie])\n",
    "\n",
    "            # finalley, The actual Rating of this user-movie pair...\n",
    "            row.append(rating)\n",
    "            count = count + 1\n",
    "            final_data = pd.concat([final_data, pd.DataFrame([row])], ignore_index=True)\n",
    "        \n",
    "            if (count)%10000 == 0:\n",
    "                # print(','.join(map(str, row)))\n",
    "                print(\"Done for {} rows----- {}\".format(count, datetime.now() - start))\n",
    "                \n",
    "print(datetime.now() - start)"
   ]
  },
  {
   "cell_type": "markdown",
   "id": "fed02dec",
   "metadata": {},
   "source": [
    "# Tiempo estimado mas del esperado\n",
    "\n",
    "Una alternativa es reducir el tamaño de los datasets que se estan tomando para entrenar el modelo por lo que procederé a evaluar los datasets y tomar decisiones para efectos prácticos de aprendizaje\n",
    "\n",
    "### Tiempo de entrenamiento demasiado largo por las dimensiones de los datasets, se procederá a reducir el train_data y el test_data a alrededor de un 0.3% del tamaño original dejando así una longitud cercana a 80000 en train_data y 15000 en test_data"
   ]
  },
  {
   "cell_type": "code",
   "execution_count": 39,
   "id": "5d5124bd",
   "metadata": {
    "scrolled": true
   },
   "outputs": [
    {
     "data": {
      "text/html": [
       "<div>\n",
       "<style scoped>\n",
       "    .dataframe tbody tr th:only-of-type {\n",
       "        vertical-align: middle;\n",
       "    }\n",
       "\n",
       "    .dataframe tbody tr th {\n",
       "        vertical-align: top;\n",
       "    }\n",
       "\n",
       "    .dataframe thead th {\n",
       "        text-align: right;\n",
       "    }\n",
       "</style>\n",
       "<table border=\"1\" class=\"dataframe\">\n",
       "  <thead>\n",
       "    <tr style=\"text-align: right;\">\n",
       "      <th></th>\n",
       "      <th>0</th>\n",
       "      <th>1</th>\n",
       "      <th>2</th>\n",
       "      <th>3</th>\n",
       "      <th>4</th>\n",
       "      <th>5</th>\n",
       "      <th>6</th>\n",
       "      <th>7</th>\n",
       "      <th>8</th>\n",
       "      <th>9</th>\n",
       "      <th>10</th>\n",
       "      <th>11</th>\n",
       "      <th>12</th>\n",
       "      <th>13</th>\n",
       "      <th>14</th>\n",
       "      <th>15</th>\n",
       "    </tr>\n",
       "  </thead>\n",
       "  <tbody>\n",
       "    <tr>\n",
       "      <th>0</th>\n",
       "      <td>2</td>\n",
       "      <td>1</td>\n",
       "      <td>3.533639</td>\n",
       "      <td>4.5</td>\n",
       "      <td>4.0</td>\n",
       "      <td>5.0</td>\n",
       "      <td>5.0</td>\n",
       "      <td>4.5</td>\n",
       "      <td>5.0</td>\n",
       "      <td>4.5</td>\n",
       "      <td>4.0</td>\n",
       "      <td>4.5</td>\n",
       "      <td>2.0</td>\n",
       "      <td>3.630435</td>\n",
       "      <td>3.895505</td>\n",
       "      <td>3.5</td>\n",
       "    </tr>\n",
       "    <tr>\n",
       "      <th>1</th>\n",
       "      <td>3</td>\n",
       "      <td>1</td>\n",
       "      <td>3.533639</td>\n",
       "      <td>4.0</td>\n",
       "      <td>4.0</td>\n",
       "      <td>3.5</td>\n",
       "      <td>4.0</td>\n",
       "      <td>2.5</td>\n",
       "      <td>4.0</td>\n",
       "      <td>3.5</td>\n",
       "      <td>4.0</td>\n",
       "      <td>2.0</td>\n",
       "      <td>4.0</td>\n",
       "      <td>3.697409</td>\n",
       "      <td>3.895505</td>\n",
       "      <td>4.0</td>\n",
       "    </tr>\n",
       "    <tr>\n",
       "      <th>2</th>\n",
       "      <td>4</td>\n",
       "      <td>1</td>\n",
       "      <td>3.533639</td>\n",
       "      <td>5.0</td>\n",
       "      <td>5.0</td>\n",
       "      <td>4.5</td>\n",
       "      <td>4.5</td>\n",
       "      <td>4.0</td>\n",
       "      <td>3.5</td>\n",
       "      <td>3.0</td>\n",
       "      <td>2.5</td>\n",
       "      <td>3.0</td>\n",
       "      <td>2.0</td>\n",
       "      <td>3.378099</td>\n",
       "      <td>3.895505</td>\n",
       "      <td>3.0</td>\n",
       "    </tr>\n",
       "    <tr>\n",
       "      <th>3</th>\n",
       "      <td>5</td>\n",
       "      <td>1</td>\n",
       "      <td>3.533639</td>\n",
       "      <td>4.0</td>\n",
       "      <td>4.0</td>\n",
       "      <td>5.0</td>\n",
       "      <td>4.0</td>\n",
       "      <td>5.0</td>\n",
       "      <td>5.0</td>\n",
       "      <td>3.0</td>\n",
       "      <td>4.0</td>\n",
       "      <td>5.0</td>\n",
       "      <td>4.0</td>\n",
       "      <td>3.752475</td>\n",
       "      <td>3.895505</td>\n",
       "      <td>4.0</td>\n",
       "    </tr>\n",
       "    <tr>\n",
       "      <th>4</th>\n",
       "      <td>8</td>\n",
       "      <td>1</td>\n",
       "      <td>3.533639</td>\n",
       "      <td>4.0</td>\n",
       "      <td>2.0</td>\n",
       "      <td>4.0</td>\n",
       "      <td>3.0</td>\n",
       "      <td>4.0</td>\n",
       "      <td>3.0</td>\n",
       "      <td>4.0</td>\n",
       "      <td>5.0</td>\n",
       "      <td>3.0</td>\n",
       "      <td>3.0</td>\n",
       "      <td>3.612903</td>\n",
       "      <td>3.895505</td>\n",
       "      <td>4.0</td>\n",
       "    </tr>\n",
       "    <tr>\n",
       "      <th>...</th>\n",
       "      <td>...</td>\n",
       "      <td>...</td>\n",
       "      <td>...</td>\n",
       "      <td>...</td>\n",
       "      <td>...</td>\n",
       "      <td>...</td>\n",
       "      <td>...</td>\n",
       "      <td>...</td>\n",
       "      <td>...</td>\n",
       "      <td>...</td>\n",
       "      <td>...</td>\n",
       "      <td>...</td>\n",
       "      <td>...</td>\n",
       "      <td>...</td>\n",
       "      <td>...</td>\n",
       "      <td>...</td>\n",
       "    </tr>\n",
       "    <tr>\n",
       "      <th>242401</th>\n",
       "      <td>48651</td>\n",
       "      <td>22</td>\n",
       "      <td>3.533639</td>\n",
       "      <td>3.0</td>\n",
       "      <td>4.0</td>\n",
       "      <td>5.0</td>\n",
       "      <td>3.0</td>\n",
       "      <td>3.0</td>\n",
       "      <td>4.0</td>\n",
       "      <td>5.0</td>\n",
       "      <td>4.0</td>\n",
       "      <td>5.0</td>\n",
       "      <td>3.0</td>\n",
       "      <td>3.800000</td>\n",
       "      <td>3.318989</td>\n",
       "      <td>4.0</td>\n",
       "    </tr>\n",
       "    <tr>\n",
       "      <th>242402</th>\n",
       "      <td>48657</td>\n",
       "      <td>22</td>\n",
       "      <td>3.533639</td>\n",
       "      <td>4.0</td>\n",
       "      <td>4.0</td>\n",
       "      <td>4.0</td>\n",
       "      <td>3.0</td>\n",
       "      <td>5.0</td>\n",
       "      <td>4.0</td>\n",
       "      <td>3.0</td>\n",
       "      <td>3.0</td>\n",
       "      <td>3.0</td>\n",
       "      <td>1.0</td>\n",
       "      <td>3.729730</td>\n",
       "      <td>3.318989</td>\n",
       "      <td>3.0</td>\n",
       "    </tr>\n",
       "    <tr>\n",
       "      <th>242403</th>\n",
       "      <td>48670</td>\n",
       "      <td>22</td>\n",
       "      <td>3.533639</td>\n",
       "      <td>5.0</td>\n",
       "      <td>4.0</td>\n",
       "      <td>5.0</td>\n",
       "      <td>3.0</td>\n",
       "      <td>3.0</td>\n",
       "      <td>4.0</td>\n",
       "      <td>5.0</td>\n",
       "      <td>5.0</td>\n",
       "      <td>5.0</td>\n",
       "      <td>5.0</td>\n",
       "      <td>4.234234</td>\n",
       "      <td>3.318989</td>\n",
       "      <td>5.0</td>\n",
       "    </tr>\n",
       "    <tr>\n",
       "      <th>242404</th>\n",
       "      <td>48671</td>\n",
       "      <td>22</td>\n",
       "      <td>3.533639</td>\n",
       "      <td>3.0</td>\n",
       "      <td>3.0</td>\n",
       "      <td>4.0</td>\n",
       "      <td>3.0</td>\n",
       "      <td>4.0</td>\n",
       "      <td>5.0</td>\n",
       "      <td>4.0</td>\n",
       "      <td>4.0</td>\n",
       "      <td>4.0</td>\n",
       "      <td>5.0</td>\n",
       "      <td>3.820225</td>\n",
       "      <td>3.318989</td>\n",
       "      <td>5.0</td>\n",
       "    </tr>\n",
       "    <tr>\n",
       "      <th>242405</th>\n",
       "      <td>48678</td>\n",
       "      <td>22</td>\n",
       "      <td>3.533639</td>\n",
       "      <td>3.0</td>\n",
       "      <td>3.0</td>\n",
       "      <td>4.0</td>\n",
       "      <td>3.0</td>\n",
       "      <td>4.0</td>\n",
       "      <td>4.0</td>\n",
       "      <td>3.0</td>\n",
       "      <td>3.0</td>\n",
       "      <td>1.0</td>\n",
       "      <td>3.0</td>\n",
       "      <td>3.508159</td>\n",
       "      <td>3.318989</td>\n",
       "      <td>2.0</td>\n",
       "    </tr>\n",
       "  </tbody>\n",
       "</table>\n",
       "<p>242406 rows × 16 columns</p>\n",
       "</div>"
      ],
      "text/plain": [
       "           0   1         2    3    4    5    6    7    8    9    10   11   12  \\\n",
       "0           2   1  3.533639  4.5  4.0  5.0  5.0  4.5  5.0  4.5  4.0  4.5  2.0   \n",
       "1           3   1  3.533639  4.0  4.0  3.5  4.0  2.5  4.0  3.5  4.0  2.0  4.0   \n",
       "2           4   1  3.533639  5.0  5.0  4.5  4.5  4.0  3.5  3.0  2.5  3.0  2.0   \n",
       "3           5   1  3.533639  4.0  4.0  5.0  4.0  5.0  5.0  3.0  4.0  5.0  4.0   \n",
       "4           8   1  3.533639  4.0  2.0  4.0  3.0  4.0  3.0  4.0  5.0  3.0  3.0   \n",
       "...       ...  ..       ...  ...  ...  ...  ...  ...  ...  ...  ...  ...  ...   \n",
       "242401  48651  22  3.533639  3.0  4.0  5.0  3.0  3.0  4.0  5.0  4.0  5.0  3.0   \n",
       "242402  48657  22  3.533639  4.0  4.0  4.0  3.0  5.0  4.0  3.0  3.0  3.0  1.0   \n",
       "242403  48670  22  3.533639  5.0  4.0  5.0  3.0  3.0  4.0  5.0  5.0  5.0  5.0   \n",
       "242404  48671  22  3.533639  3.0  3.0  4.0  3.0  4.0  5.0  4.0  4.0  4.0  5.0   \n",
       "242405  48678  22  3.533639  3.0  3.0  4.0  3.0  4.0  4.0  3.0  3.0  1.0  3.0   \n",
       "\n",
       "              13        14   15  \n",
       "0       3.630435  3.895505  3.5  \n",
       "1       3.697409  3.895505  4.0  \n",
       "2       3.378099  3.895505  3.0  \n",
       "3       3.752475  3.895505  4.0  \n",
       "4       3.612903  3.895505  4.0  \n",
       "...          ...       ...  ...  \n",
       "242401  3.800000  3.318989  4.0  \n",
       "242402  3.729730  3.318989  3.0  \n",
       "242403  4.234234  3.318989  5.0  \n",
       "242404  3.820225  3.318989  5.0  \n",
       "242405  3.508159  3.318989  2.0  \n",
       "\n",
       "[242406 rows x 16 columns]"
      ]
     },
     "execution_count": 39,
     "metadata": {},
     "output_type": "execute_result"
    }
   ],
   "source": [
    "final_data"
   ]
  },
  {
   "cell_type": "code",
   "execution_count": null,
   "id": "4ac68ff0",
   "metadata": {},
   "outputs": [],
   "source": [
    "train_user."
   ]
  },
  {
   "cell_type": "code",
   "execution_count": null,
   "id": "2fbd4fed",
   "metadata": {},
   "outputs": [],
   "source": [
    "#Guardar al terminar\n",
    "final_data.to_csv('final_data.csv', index=False)"
   ]
  },
  {
   "cell_type": "code",
   "execution_count": null,
   "id": "e9f6a6d0",
   "metadata": {},
   "outputs": [],
   "source": [
    "len(train_users)"
   ]
  },
  {
   "cell_type": "code",
   "execution_count": null,
   "id": "73c7ba3e",
   "metadata": {},
   "outputs": [],
   "source": [
    "len(train_movies)"
   ]
  },
  {
   "cell_type": "code",
   "execution_count": null,
   "id": "98c87ec0",
   "metadata": {},
   "outputs": [],
   "source": [
    "len(train_ratings)"
   ]
  },
  {
   "cell_type": "code",
   "execution_count": null,
   "id": "5fb755c0",
   "metadata": {},
   "outputs": [],
   "source": [
    "len(train_users)*0.001"
   ]
  },
  {
   "cell_type": "code",
   "execution_count": null,
   "id": "3d88cc21",
   "metadata": {},
   "outputs": [],
   "source": [
    "final_data.columns = ['user', 'movie', 'GAvg', 'sur1', 'sur2', 'sur3', 'sur4', 'sur5', 'smr1', 'smr2', 'smr3', 'smr4',\n",
    "                      'smr5', 'UAvg', 'MAvg', 'rating']"
   ]
  },
  {
   "cell_type": "code",
   "execution_count": null,
   "id": "6c22d73f",
   "metadata": {},
   "outputs": [],
   "source": [
    "final_data.head()"
   ]
  },
  {
   "cell_type": "code",
   "execution_count": null,
   "id": "e12c9a46",
   "metadata": {},
   "outputs": [],
   "source": [
    "final_data['mf_svd'] = train_pred_mf\n",
    "final_data.head()"
   ]
  },
  {
   "cell_type": "markdown",
   "id": "3dc51ef9",
   "metadata": {},
   "source": [
    "# Preparando la Información de Prueba"
   ]
  },
  {
   "cell_type": "code",
   "execution_count": null,
   "id": "67532ad8",
   "metadata": {},
   "outputs": [],
   "source": [
    "# Creando la matriz dispersa\n",
    "test_sparse_matrix = sparse.csr_matrix((test_data.rating.values, (test_data.userId.values, test_data.movieId.values)))"
   ]
  },
  {
   "cell_type": "code",
   "execution_count": null,
   "id": "91d625c6",
   "metadata": {},
   "outputs": [],
   "source": [
    "# Promedio global de todas las peliculas por todos los usuarios\n",
    "\n",
    "test_Averages = dict()\n",
    "\n",
    "# Obtener el promedio global de los ratings en nuestro set de entrenamiento\n",
    "test_global_average = test_sparse_matrix.sum()/test_sparse_matrix.count_nonzero()\n",
    "test_averages['global'] = test_global_average\n",
    "test_averages"
   ]
  },
  {
   "cell_type": "markdown",
   "id": "e074c8e7",
   "metadata": {},
   "source": [
    "## Esta repetido!!\n",
    "#### Obtener el promedio de los usuarios en diccionario (key: user_id/movie_id, value: avg rating)\n",
    "\n",
    "def get_average_ratings(sparse_matrix, of_users):\n",
    "    \n",
    "    # Promedio de ratings de usuarios/axes\n",
    "    ax = 1 if of_users else 0 # 1 - User axes, 0 - Movie axes\n",
    "    \n",
    "    # \".A1\" es para convertir Column_Matrix a 1-D numpy array\n",
    "    sum_of_ratings = sparse_matrix.sum(axis=ax).A1\n",
    "    # Matriz booleana de matrices (Si un usuario calificó esa película o no)\n",
    "    is_rated = sparse_matrix != 0\n",
    "    # No de raitings de cada usuario o película\n",
    "    no_of_ratings = is_rated.sum(axis=ax).A1\n",
    "    \n",
    "    # max_user y max_movie ids en una matriz dispersa\n",
    "    u,m = sparse_matrix.shape\n",
    "    # Crear un diccionario de usuarios y sus ratings promedio\n",
    "    average_ratings = { i : sum_of_ratings[i]/no_of_ratings[i] for i in range(u if of_users else m) if no_of_ratings[i] != 0}\n",
    "    \n",
    "    # Devovler el diccionario the ratings promedio\n",
    "    return average_ratings"
   ]
  },
  {
   "cell_type": "code",
   "execution_count": null,
   "id": "41c96e10",
   "metadata": {},
   "outputs": [],
   "source": [
    "# Ratings promedio por usuario\n",
    "test_averages['user'] = get_average_raitings(test_sparse_matrix, od_users=True)\n",
    "print('\\n Rating promedio del usuario 27:', test_averages['user'][27])"
   ]
  },
  {
   "cell_type": "code",
   "execution_count": null,
   "id": "bef1c349",
   "metadata": {},
   "outputs": [],
   "source": [
    "# Rating promedio por pelicula\n",
    "test_averages['movie'] = get_average_raitings(test_sparse_matrix, of_users=False)\n",
    "print('\\n Rating promedio de la pelicula 52:', test_averages['user'][52])"
   ]
  },
  {
   "cell_type": "code",
   "execution_count": null,
   "id": "75b9a047",
   "metadata": {},
   "outputs": [],
   "source": [
    "# Obtener usuarios, peliculas y ratings de la meustra de la matriz de entramiento dispersa\n",
    "test_users, test_movies, test_ratings = sparse.find(test_sparse_matrix)"
   ]
  },
  {
   "cell_type": "code",
   "execution_count": null,
   "id": "c8893dc1",
   "metadata": {},
   "outputs": [],
   "source": [
    "final_test_data = pd.DataFrame()\n",
    "count = 0\n",
    "\n",
    "for (user, movie, rating) in zip(test_users, test_movies, test_ratings):\n",
    "    start = datetime.now()\n",
    "    #print(user,movie)\n",
    "    \n",
    "    # Ratings de peliculas de \"movie\" por similaridad de usuarios de \"user\"\n",
    "    # Calcular la similaridad de los usuarios de \"user\"\n",
    "    user_sim = cosine_similarity(test_sparse_matrix[user], test_sparse_matrix). ravel()\n",
    "    top_sim_users = user_sim.argsort()[::-1][1:]\n",
    "    # Obtener los ratings de los usuarios mas similares para la pelicula\n",
    "    top_ratings = test_sparse_matrix[top_sim_users, movie].toarray().ravel()\n",
    "    # Vamos a hacer una longitud de \"5\" añadiendo el promedio de las peliculas\n",
    "    top_sim_users_ratings = list(top_ratings[top_ratings != 0][:5])\n",
    "    top_sim_users_ratings.extend([test_averages['movie'][movie]]*(5 - len(top_sim_users_ratings)))\n",
    "    #print(top_sim_users_ratings, end=\" \")\n",
    "    \n",
    "    # Ratings de usuarios \"user\" para peliculas similares de \"movie\"\n",
    "    # Calcular las peliculas similares de \"movie\"\n",
    "    movie_sim = cosine_similarity(test_sparse_matrix[:, movie].T, test_sparse_matrix.T).ravel()\n",
    "    top_sim_movies = movie_sim.argsort()[::-1][1:]\n",
    "    # Obtener el rating de las peliculas mas similares calificada por el usuario\n",
    "    top_ratings = test_sparse_matrix[user, top_sim_movies].toarray().ravel()\n",
    "    # Vamos a hacerlo una longitud de \"5\" añadiendo el promedio de los usuarios\n",
    "    top_sim_movies_ratings = list(top_ratings[top_ratings != 0][:5])\n",
    "    top_sim_movies_ratings.extend([test_averages['user'][user]]*(5 - len(top_sim_movies_ratings)))\n",
    "    #print(top_sim_movies_ratings, end=\" \")\n",
    "    \n",
    "    # Preparar la fila para guardarlo en un archivo\n",
    "    row = list()\n",
    "    row.append(user)\n",
    "    row.append(movie)\n",
    "    row.append(train_averages['global'])\n",
    "    row.extend(top_sim_users_ratings)\n",
    "    row.extend(top_sim_movies_ratings)\n",
    "    row.append(train_averages['user'][user])\n",
    "    row.append(train_averages['movie'][movie])\n",
    "\n",
    "    row.append(rating)\n",
    "    count = count + 1\n",
    "    final_data = pd.concat([final_data, pd.DataFrame([row])], ignore_index=True)\n",
    "\n",
    "    if (count)%10000 == 0:\n",
    "        # print(','.join(map(str, row)))\n",
    "        print(\"Done for {} rows----- {}\".format(count, datetime.now() - start))\n",
    "                \n",
    "print(datetime.now() - start)"
   ]
  },
  {
   "cell_type": "code",
   "execution_count": null,
   "id": "4e598a15",
   "metadata": {},
   "outputs": [],
   "source": [
    "final_test_data.columns = ['user', 'movie', 'GAvg', 'sur1', 'sur2', 'sur3', 'sur4', 'sur5', 'smr1', 'smr2', 'smr3', 'smr4',\n",
    "                      'smr5', 'UAvg', 'MAvg', 'rating']"
   ]
  },
  {
   "cell_type": "code",
   "execution_count": null,
   "id": "79b8ca1d",
   "metadata": {},
   "outputs": [],
   "source": []
  },
  {
   "cell_type": "code",
   "execution_count": null,
   "id": "7deda5bc",
   "metadata": {},
   "outputs": [],
   "source": []
  }
 ],
 "metadata": {
  "kernelspec": {
   "display_name": "Python 3 (ipykernel)",
   "language": "python",
   "name": "python3"
  },
  "language_info": {
   "codemirror_mode": {
    "name": "ipython",
    "version": 3
   },
   "file_extension": ".py",
   "mimetype": "text/x-python",
   "name": "python",
   "nbconvert_exporter": "python",
   "pygments_lexer": "ipython3",
   "version": "3.9.15"
  }
 },
 "nbformat": 4,
 "nbformat_minor": 5
}
