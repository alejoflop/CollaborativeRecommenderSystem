{
 "cells": [
  {
   "cell_type": "code",
   "execution_count": 1,
   "id": "c251c094",
   "metadata": {},
   "outputs": [
    {
     "data": {
      "text/html": [
       "<div>\n",
       "<style scoped>\n",
       "    .dataframe tbody tr th:only-of-type {\n",
       "        vertical-align: middle;\n",
       "    }\n",
       "\n",
       "    .dataframe tbody tr th {\n",
       "        vertical-align: top;\n",
       "    }\n",
       "\n",
       "    .dataframe thead th {\n",
       "        text-align: right;\n",
       "    }\n",
       "</style>\n",
       "<table border=\"1\" class=\"dataframe\">\n",
       "  <thead>\n",
       "    <tr style=\"text-align: right;\">\n",
       "      <th></th>\n",
       "      <th>userId</th>\n",
       "      <th>movieId</th>\n",
       "      <th>rating</th>\n",
       "      <th>timestamp</th>\n",
       "    </tr>\n",
       "  </thead>\n",
       "  <tbody>\n",
       "    <tr>\n",
       "      <th>0</th>\n",
       "      <td>1</td>\n",
       "      <td>1</td>\n",
       "      <td>4.0</td>\n",
       "      <td>964982703</td>\n",
       "    </tr>\n",
       "    <tr>\n",
       "      <th>1</th>\n",
       "      <td>1</td>\n",
       "      <td>3</td>\n",
       "      <td>4.0</td>\n",
       "      <td>964981247</td>\n",
       "    </tr>\n",
       "    <tr>\n",
       "      <th>2</th>\n",
       "      <td>1</td>\n",
       "      <td>6</td>\n",
       "      <td>4.0</td>\n",
       "      <td>964982224</td>\n",
       "    </tr>\n",
       "    <tr>\n",
       "      <th>3</th>\n",
       "      <td>1</td>\n",
       "      <td>47</td>\n",
       "      <td>5.0</td>\n",
       "      <td>964983815</td>\n",
       "    </tr>\n",
       "    <tr>\n",
       "      <th>4</th>\n",
       "      <td>1</td>\n",
       "      <td>50</td>\n",
       "      <td>5.0</td>\n",
       "      <td>964982931</td>\n",
       "    </tr>\n",
       "    <tr>\n",
       "      <th>...</th>\n",
       "      <td>...</td>\n",
       "      <td>...</td>\n",
       "      <td>...</td>\n",
       "      <td>...</td>\n",
       "    </tr>\n",
       "    <tr>\n",
       "      <th>100831</th>\n",
       "      <td>610</td>\n",
       "      <td>166534</td>\n",
       "      <td>4.0</td>\n",
       "      <td>1493848402</td>\n",
       "    </tr>\n",
       "    <tr>\n",
       "      <th>100832</th>\n",
       "      <td>610</td>\n",
       "      <td>168248</td>\n",
       "      <td>5.0</td>\n",
       "      <td>1493850091</td>\n",
       "    </tr>\n",
       "    <tr>\n",
       "      <th>100833</th>\n",
       "      <td>610</td>\n",
       "      <td>168250</td>\n",
       "      <td>5.0</td>\n",
       "      <td>1494273047</td>\n",
       "    </tr>\n",
       "    <tr>\n",
       "      <th>100834</th>\n",
       "      <td>610</td>\n",
       "      <td>168252</td>\n",
       "      <td>5.0</td>\n",
       "      <td>1493846352</td>\n",
       "    </tr>\n",
       "    <tr>\n",
       "      <th>100835</th>\n",
       "      <td>610</td>\n",
       "      <td>170875</td>\n",
       "      <td>3.0</td>\n",
       "      <td>1493846415</td>\n",
       "    </tr>\n",
       "  </tbody>\n",
       "</table>\n",
       "<p>100836 rows × 4 columns</p>\n",
       "</div>"
      ],
      "text/plain": [
       "        userId  movieId  rating   timestamp\n",
       "0            1        1     4.0   964982703\n",
       "1            1        3     4.0   964981247\n",
       "2            1        6     4.0   964982224\n",
       "3            1       47     5.0   964983815\n",
       "4            1       50     5.0   964982931\n",
       "...        ...      ...     ...         ...\n",
       "100831     610   166534     4.0  1493848402\n",
       "100832     610   168248     5.0  1493850091\n",
       "100833     610   168250     5.0  1494273047\n",
       "100834     610   168252     5.0  1493846352\n",
       "100835     610   170875     3.0  1493846415\n",
       "\n",
       "[100836 rows x 4 columns]"
      ]
     },
     "execution_count": 1,
     "metadata": {},
     "output_type": "execute_result"
    }
   ],
   "source": [
    "import pandas as pd\n",
    "data = pd.read_csv(\"ml-latest-small/ratings.csv\")\n",
    "data"
   ]
  },
  {
   "cell_type": "code",
   "execution_count": 2,
   "id": "e3c96432",
   "metadata": {},
   "outputs": [
    {
     "data": {
      "text/html": [
       "<div>\n",
       "<style scoped>\n",
       "    .dataframe tbody tr th:only-of-type {\n",
       "        vertical-align: middle;\n",
       "    }\n",
       "\n",
       "    .dataframe tbody tr th {\n",
       "        vertical-align: top;\n",
       "    }\n",
       "\n",
       "    .dataframe thead th {\n",
       "        text-align: right;\n",
       "    }\n",
       "</style>\n",
       "<table border=\"1\" class=\"dataframe\">\n",
       "  <thead>\n",
       "    <tr style=\"text-align: right;\">\n",
       "      <th></th>\n",
       "      <th>userId</th>\n",
       "      <th>movieId</th>\n",
       "      <th>rating</th>\n",
       "    </tr>\n",
       "  </thead>\n",
       "  <tbody>\n",
       "    <tr>\n",
       "      <th>0</th>\n",
       "      <td>1</td>\n",
       "      <td>1</td>\n",
       "      <td>4.0</td>\n",
       "    </tr>\n",
       "    <tr>\n",
       "      <th>1</th>\n",
       "      <td>1</td>\n",
       "      <td>3</td>\n",
       "      <td>4.0</td>\n",
       "    </tr>\n",
       "    <tr>\n",
       "      <th>2</th>\n",
       "      <td>1</td>\n",
       "      <td>6</td>\n",
       "      <td>4.0</td>\n",
       "    </tr>\n",
       "    <tr>\n",
       "      <th>3</th>\n",
       "      <td>1</td>\n",
       "      <td>47</td>\n",
       "      <td>5.0</td>\n",
       "    </tr>\n",
       "    <tr>\n",
       "      <th>4</th>\n",
       "      <td>1</td>\n",
       "      <td>50</td>\n",
       "      <td>5.0</td>\n",
       "    </tr>\n",
       "  </tbody>\n",
       "</table>\n",
       "</div>"
      ],
      "text/plain": [
       "   userId  movieId  rating\n",
       "0       1        1     4.0\n",
       "1       1        3     4.0\n",
       "2       1        6     4.0\n",
       "3       1       47     5.0\n",
       "4       1       50     5.0"
      ]
     },
     "execution_count": 2,
     "metadata": {},
     "output_type": "execute_result"
    }
   ],
   "source": [
    "data = data.drop('timestamp', axis=1)\n",
    "data.head()"
   ]
  },
  {
   "cell_type": "markdown",
   "id": "25079b62",
   "metadata": {},
   "source": [
    "# Splitting the data"
   ]
  },
  {
   "cell_type": "code",
   "execution_count": 3,
   "id": "fa1061b6",
   "metadata": {},
   "outputs": [
    {
     "data": {
      "text/plain": [
       "(100836, 3)"
      ]
     },
     "execution_count": 3,
     "metadata": {},
     "output_type": "execute_result"
    }
   ],
   "source": [
    "data.shape"
   ]
  },
  {
   "cell_type": "code",
   "execution_count": 4,
   "id": "d8fc1ea4",
   "metadata": {},
   "outputs": [],
   "source": [
    "train_data = data.iloc[:int(data.shape[0]*0.80)]\n",
    "test_data = data.iloc[int(data.shape[0]*0.80):]"
   ]
  },
  {
   "cell_type": "code",
   "execution_count": 5,
   "id": "a935d618",
   "metadata": {},
   "outputs": [
    {
     "data": {
      "text/plain": [
       "(80668, 3)"
      ]
     },
     "execution_count": 5,
     "metadata": {},
     "output_type": "execute_result"
    }
   ],
   "source": [
    "train_data.shape"
   ]
  },
  {
   "cell_type": "code",
   "execution_count": 6,
   "id": "cf437842",
   "metadata": {},
   "outputs": [
    {
     "data": {
      "text/plain": [
       "(20168, 3)"
      ]
     },
     "execution_count": 6,
     "metadata": {},
     "output_type": "execute_result"
    }
   ],
   "source": [
    "test_data.shape"
   ]
  },
  {
   "cell_type": "markdown",
   "id": "c21f840d",
   "metadata": {},
   "source": [
    "# Matrix Factorization"
   ]
  },
  {
   "cell_type": "code",
   "execution_count": 7,
   "id": "bf6e80f0",
   "metadata": {},
   "outputs": [],
   "source": [
    "from surprise import SVD\n",
    "import numpy as np\n",
    "import surprise\n",
    "from surprise import Reader, Dataset\n",
    "from scipy import sparse"
   ]
  },
  {
   "cell_type": "code",
   "execution_count": 8,
   "id": "9f3d3bc6",
   "metadata": {},
   "outputs": [],
   "source": [
    "# Es para especificar como leer el dataframe\n",
    "# Para nuestro dataframe no necesitamos especificar algo extra...\n",
    "reader = Reader(rating_scale=(1,5))\n",
    "\n",
    "# Crear información de entrenamiento del dataframe...\n",
    "train_data_mf = Dataset.load_from_df(train_data[['userId', 'movieId', 'rating']], reader)\n",
    "\n",
    "# Construir el trainset de traindara.., It is of dataset format from surprise library..\n",
    "trainset = train_data_mf.build_full_trainset() "
   ]
  },
  {
   "cell_type": "code",
   "execution_count": 9,
   "id": "78c9e071",
   "metadata": {},
   "outputs": [],
   "source": [
    "# Crear un testdata para el dataframe...\n",
    "test_data_mf = Dataset.load_from_df(test_data[['userId', 'movieId', 'rating']], reader)\n",
    "\n",
    "# Construir un testset del traindata.., It is of dataset format from surprise library..\n",
    "testset = test_data_mf.build_full_trainset() "
   ]
  },
  {
   "cell_type": "code",
   "execution_count": 10,
   "id": "f1be61cf",
   "metadata": {},
   "outputs": [
    {
     "name": "stdout",
     "output_type": "stream",
     "text": [
      "Processing epoch 0\n",
      "Processing epoch 1\n",
      "Processing epoch 2\n",
      "Processing epoch 3\n",
      "Processing epoch 4\n",
      "Processing epoch 5\n",
      "Processing epoch 6\n",
      "Processing epoch 7\n",
      "Processing epoch 8\n",
      "Processing epoch 9\n",
      "Processing epoch 10\n",
      "Processing epoch 11\n",
      "Processing epoch 12\n",
      "Processing epoch 13\n",
      "Processing epoch 14\n",
      "Processing epoch 15\n",
      "Processing epoch 16\n",
      "Processing epoch 17\n",
      "Processing epoch 18\n",
      "Processing epoch 19\n"
     ]
    },
    {
     "data": {
      "text/plain": [
       "<surprise.prediction_algorithms.matrix_factorization.SVD at 0x1f9628b11c0>"
      ]
     },
     "execution_count": 10,
     "metadata": {},
     "output_type": "execute_result"
    }
   ],
   "source": [
    "svd = SVD(n_factors=100, biased=True, random_state=15, verbose=True)\n",
    "svd.fit(trainset)"
   ]
  },
  {
   "cell_type": "code",
   "execution_count": 11,
   "id": "39a685af",
   "metadata": {},
   "outputs": [],
   "source": [
    "# Guradando las predicciones de entrenamiento y obteniendolas del trainset\n",
    "train_preds = svd.test(trainset.build_testset())\n",
    "\n",
    "train_pred_mf = np.array([pred.est for pred in train_preds])"
   ]
  },
  {
   "cell_type": "code",
   "execution_count": 12,
   "id": "69cc94a9",
   "metadata": {},
   "outputs": [
    {
     "data": {
      "text/plain": [
       "array([4.30619518, 3.94173484, 4.54355566, ..., 3.06422925, 3.25430315,\n",
       "       2.69500677])"
      ]
     },
     "execution_count": 12,
     "metadata": {},
     "output_type": "execute_result"
    }
   ],
   "source": [
    "train_pred_mf"
   ]
  },
  {
   "cell_type": "code",
   "execution_count": 13,
   "id": "7f3992b7",
   "metadata": {},
   "outputs": [],
   "source": [
    "# Guardando las predicciones de prueba y obteniendolas del testset\n",
    "test_preds = svd.test(testset.build_testset())\n",
    "\n",
    "test_pred_mf = np.array([pred.est for pred in test_preds])"
   ]
  },
  {
   "cell_type": "code",
   "execution_count": 14,
   "id": "72aa60bb",
   "metadata": {},
   "outputs": [
    {
     "data": {
      "text/plain": [
       "array([3.42586544, 3.22903645, 3.02600702, ..., 3.56157074, 3.92178227,\n",
       "       3.32054949])"
      ]
     },
     "execution_count": 14,
     "metadata": {},
     "output_type": "execute_result"
    }
   ],
   "source": [
    "test_pred_mf"
   ]
  },
  {
   "cell_type": "markdown",
   "id": "49e23c06",
   "metadata": {},
   "source": [
    "# Preparando el data frame de entrenamiento"
   ]
  },
  {
   "cell_type": "code",
   "execution_count": 15,
   "id": "83ce918b",
   "metadata": {},
   "outputs": [],
   "source": [
    "# Creando una matriz dispersa (sparse matrix)\n",
    "\n",
    "train_sparse_matrix = sparse.csr_matrix((train_data.rating.values, (train_data.userId.values, train_data.movieId.values)))"
   ]
  },
  {
   "cell_type": "code",
   "execution_count": 16,
   "id": "5964d218",
   "metadata": {},
   "outputs": [
    {
     "data": {
      "text/plain": [
       "{'global': 3.5199769425298757}"
      ]
     },
     "execution_count": 16,
     "metadata": {},
     "output_type": "execute_result"
    }
   ],
   "source": [
    "#Promedio global de las peliculas por los usuarios\n",
    "train_averages = dict()\n",
    "\n",
    "#Obtener el promedio glob al the raitings in nuestro set de entrenamiento\n",
    "train_global_average = train_sparse_matrix.sum()/train_sparse_matrix.count_nonzero()\n",
    "train_averages['global'] = train_global_average\n",
    "train_averages"
   ]
  },
  {
   "cell_type": "code",
   "execution_count": 17,
   "id": "354399c4",
   "metadata": {},
   "outputs": [],
   "source": [
    "# Obtener el promedio de los usuarios en un diccionario (key: user_id / movie_id, value: abg raiting)\n",
    "\n",
    "def get_average_raitings(sparse_matrix, of_users):\n",
    "    \n",
    "    # Promedio de ratings de usuarios/axes\n",
    "    ax = 1 if of_users else 0 # 1 - User axes, 0 - Movie axes\n",
    "    \n",
    "    # \".A1\" es para convertir Column_Matrix a 1-D numpy array\n",
    "    sum_of_ratings = sparse_matrix.sum(axis=ax).A1\n",
    "    # Matriz booleana de matrices (Si un usuario calificó esa película o no)\n",
    "    is_rated = sparse_matrix != 0\n",
    "    # No de raitings de cada usuario o película\n",
    "    no_of_ratings = is_rated.sum(axis=ax).A1\n",
    "    \n",
    "    # max_user y max_movie ids en una matriz dispersa\n",
    "    u,m = sparse_matrix.shape\n",
    "    # Crear un diccionario de usuarios y sus ratings promedio\n",
    "    average_ratings = { i : sum_of_ratings[i]/no_of_ratings[i] for i in range(u if of_users else m) if no_of_ratings[i] != 0}\n",
    "    \n",
    "    # Devovler el diccionario the ratings promedio\n",
    "    return average_ratings"
   ]
  },
  {
   "cell_type": "code",
   "execution_count": 18,
   "id": "779dc573",
   "metadata": {},
   "outputs": [
    {
     "name": "stdout",
     "output_type": "stream",
     "text": [
      "\n",
      "Rating promedio del usuario 25:  4.8076923076923075\n"
     ]
    }
   ],
   "source": [
    "# Raiting promedio obtenido por un usario\n",
    "train_averages['user'] = get_average_raitings(train_sparse_matrix, of_users=True)\n",
    "print('\\nRating promedio del usuario 25: ', train_averages['user'][25])"
   ]
  },
  {
   "cell_type": "code",
   "execution_count": 19,
   "id": "bfa48ec8",
   "metadata": {},
   "outputs": [
    {
     "name": "stdout",
     "output_type": "stream",
     "text": [
      "\n",
      "Rating promedio de la película 40:  3.5\n"
     ]
    }
   ],
   "source": [
    "# Raiting promedio para una película\n",
    "train_averages['movie'] = get_average_raitings(train_sparse_matrix, of_users=False)\n",
    "print('\\nRating promedio de la película 40: ', train_averages['movie'][40])"
   ]
  },
  {
   "cell_type": "code",
   "execution_count": 20,
   "id": "e29b417f",
   "metadata": {},
   "outputs": [],
   "source": [
    "# Obtener usuarios, películas and ratings de nuestra matriz dispersa de meustras de entrenamiento\n",
    "train_users, train_movies, train_ratings = sparse.find(train_sparse_matrix)"
   ]
  },
  {
   "cell_type": "code",
   "execution_count": 21,
   "id": "3c10114d",
   "metadata": {
    "scrolled": true
   },
   "outputs": [
    {
     "name": "stdout",
     "output_type": "stream",
     "text": [
      "Done for 10000 rows----- 0:02:26.960641\n",
      "Done for 20000 rows----- 0:04:55.033775\n",
      "Done for 30000 rows----- 0:07:26.806999\n",
      "Done for 40000 rows----- 0:09:59.756585\n",
      "Done for 50000 rows----- 0:12:35.584303\n",
      "Done for 60000 rows----- 0:15:13.650237\n",
      "Done for 70000 rows----- 0:17:55.820979\n",
      "Done for 80000 rows----- 0:20:39.258870\n",
      "Tiempo total tomado:  0:20:49.842813\n"
     ]
    }
   ],
   "source": [
    "from datetime import datetime\n",
    "from sklearn.metrics.pairwise import cosine_similarity\n",
    "\n",
    "final_data = pd.DataFrame()\n",
    "count = 0\n",
    "start = datetime.now()\n",
    "\n",
    "for (user, movie, rating)  in zip(train_users, train_movies, train_ratings):\n",
    "            #print(user, movie)    \n",
    "            \n",
    "            # Calificacion de \"movie\" por similaridad de usuario de \"user\"\n",
    "            # Calcular la similaridad de usariores de \"user\"        \n",
    "            user_sim = cosine_similarity(train_sparse_matrix[user], train_sparse_matrix).ravel()\n",
    "            top_sim_users = user_sim.argsort()[::-1][1:] # we are ignoring 'The User' from its similar users.\n",
    "            # Obtener los ratings de los usuarios más similares para esta película\n",
    "            top_ratings = train_sparse_matrix[top_sim_users, movie].toarray().ravel()\n",
    "            # Vamos a hacer una longitud de \"5\" agregando el promedio de las peliculas\n",
    "            top_sim_users_ratings = list(top_ratings[top_ratings != 0][:5])\n",
    "            top_sim_users_ratings.extend([train_averages['movie'][movie]]*(5 - len(top_sim_users_ratings)))\n",
    "            # print(top_sim_users_ratings, end=\" \")    \n",
    "\n",
    "\n",
    "            # Ratings de \"user\" para peliculas similares de \"movie\"\n",
    "            # Calcular las peliculas similares de \"movie\"        \n",
    "            movie_sim = cosine_similarity(train_sparse_matrix[:,movie].T, train_sparse_matrix.T).ravel()\n",
    "            top_sim_movies = movie_sim.argsort()[::-1][1:] # we are ignoring 'The User' from its similar users.\n",
    "            # Obtener los ratings de las películas más similares calificados por el usuario\n",
    "            top_ratings = train_sparse_matrix[user, top_sim_movies].toarray().ravel()\n",
    "            # Vamos a hacer una longitud de \"5\" agregando el promedio de los usuarios\n",
    "            top_sim_movies_ratings = list(top_ratings[top_ratings != 0][:5])\n",
    "            top_sim_movies_ratings.extend([train_averages['user'][user]]*(5-len(top_sim_movies_ratings))) \n",
    "            # print(top_sim_movies_ratings, end=\" : -- \")\n",
    "\n",
    "            # Preparar la fila para guardarlo en un archivo\n",
    "            row = list()\n",
    "            row.append(user)\n",
    "            row.append(movie)\n",
    "            # Now add the other features to this data...\n",
    "            row.append(train_averages['global']) # first feature\n",
    "            # next 5 features are similar_users \"movie\" ratings\n",
    "            row.extend(top_sim_users_ratings)\n",
    "            # next 5 features are \"user\" ratings for similar_movies\n",
    "            row.extend(top_sim_movies_ratings)\n",
    "            # Avg_user rating\n",
    "            row.append(train_averages['user'][user])\n",
    "            # Avg_movie rating\n",
    "            row.append(train_averages['movie'][movie])\n",
    "\n",
    "            # finalley, The actual Rating of this user-movie pair...\n",
    "            row.append(rating)\n",
    "            count = count + 1\n",
    "            final_data = pd.concat([final_data, pd.DataFrame([row])], ignore_index=True)\n",
    "        \n",
    "            if (count)%10000 == 0:\n",
    "                # print(','.join(map(str, row)))\n",
    "                print(\"Done for {} rows----- {}\".format(count, datetime.now() - start))\n",
    "                \n",
    "print(\"Tiempo total tomado: \",datetime.now() - start)"
   ]
  },
  {
   "cell_type": "code",
   "execution_count": 22,
   "id": "3d88cc21",
   "metadata": {},
   "outputs": [],
   "source": [
    "final_data.columns = ['user', 'movie', 'GAvg', 'sur1', 'sur2', 'sur3', 'sur4', 'sur5', 'smr1', 'smr2', 'smr3', 'smr4',\n",
    "                      'smr5', 'UAvg', 'MAvg', 'rating']"
   ]
  },
  {
   "cell_type": "code",
   "execution_count": 23,
   "id": "870fd7d5",
   "metadata": {},
   "outputs": [
    {
     "data": {
      "text/html": [
       "<div>\n",
       "<style scoped>\n",
       "    .dataframe tbody tr th:only-of-type {\n",
       "        vertical-align: middle;\n",
       "    }\n",
       "\n",
       "    .dataframe tbody tr th {\n",
       "        vertical-align: top;\n",
       "    }\n",
       "\n",
       "    .dataframe thead th {\n",
       "        text-align: right;\n",
       "    }\n",
       "</style>\n",
       "<table border=\"1\" class=\"dataframe\">\n",
       "  <thead>\n",
       "    <tr style=\"text-align: right;\">\n",
       "      <th></th>\n",
       "      <th>user</th>\n",
       "      <th>movie</th>\n",
       "      <th>GAvg</th>\n",
       "      <th>sur1</th>\n",
       "      <th>sur2</th>\n",
       "      <th>sur3</th>\n",
       "      <th>sur4</th>\n",
       "      <th>sur5</th>\n",
       "      <th>smr1</th>\n",
       "      <th>smr2</th>\n",
       "      <th>smr3</th>\n",
       "      <th>smr4</th>\n",
       "      <th>smr5</th>\n",
       "      <th>UAvg</th>\n",
       "      <th>MAvg</th>\n",
       "      <th>rating</th>\n",
       "    </tr>\n",
       "  </thead>\n",
       "  <tbody>\n",
       "    <tr>\n",
       "      <th>0</th>\n",
       "      <td>1</td>\n",
       "      <td>1</td>\n",
       "      <td>3.519977</td>\n",
       "      <td>2.0</td>\n",
       "      <td>5.0</td>\n",
       "      <td>4.0</td>\n",
       "      <td>4.0</td>\n",
       "      <td>4.5</td>\n",
       "      <td>3.0</td>\n",
       "      <td>4.0</td>\n",
       "      <td>3.0</td>\n",
       "      <td>5.0</td>\n",
       "      <td>5.0</td>\n",
       "      <td>4.366379</td>\n",
       "      <td>3.954545</td>\n",
       "      <td>4.0</td>\n",
       "    </tr>\n",
       "    <tr>\n",
       "      <th>1</th>\n",
       "      <td>5</td>\n",
       "      <td>1</td>\n",
       "      <td>3.519977</td>\n",
       "      <td>4.0</td>\n",
       "      <td>5.0</td>\n",
       "      <td>4.0</td>\n",
       "      <td>4.0</td>\n",
       "      <td>5.0</td>\n",
       "      <td>4.0</td>\n",
       "      <td>3.0</td>\n",
       "      <td>3.0</td>\n",
       "      <td>5.0</td>\n",
       "      <td>5.0</td>\n",
       "      <td>3.636364</td>\n",
       "      <td>3.954545</td>\n",
       "      <td>4.0</td>\n",
       "    </tr>\n",
       "    <tr>\n",
       "      <th>2</th>\n",
       "      <td>7</td>\n",
       "      <td>1</td>\n",
       "      <td>3.519977</td>\n",
       "      <td>4.0</td>\n",
       "      <td>4.0</td>\n",
       "      <td>5.0</td>\n",
       "      <td>4.5</td>\n",
       "      <td>4.0</td>\n",
       "      <td>4.5</td>\n",
       "      <td>4.5</td>\n",
       "      <td>5.0</td>\n",
       "      <td>4.0</td>\n",
       "      <td>3.0</td>\n",
       "      <td>3.230263</td>\n",
       "      <td>3.954545</td>\n",
       "      <td>4.5</td>\n",
       "    </tr>\n",
       "    <tr>\n",
       "      <th>3</th>\n",
       "      <td>15</td>\n",
       "      <td>1</td>\n",
       "      <td>3.519977</td>\n",
       "      <td>5.0</td>\n",
       "      <td>3.0</td>\n",
       "      <td>4.0</td>\n",
       "      <td>4.0</td>\n",
       "      <td>4.0</td>\n",
       "      <td>3.5</td>\n",
       "      <td>3.0</td>\n",
       "      <td>5.0</td>\n",
       "      <td>3.0</td>\n",
       "      <td>3.0</td>\n",
       "      <td>3.448148</td>\n",
       "      <td>3.954545</td>\n",
       "      <td>2.5</td>\n",
       "    </tr>\n",
       "    <tr>\n",
       "      <th>4</th>\n",
       "      <td>17</td>\n",
       "      <td>1</td>\n",
       "      <td>3.519977</td>\n",
       "      <td>4.0</td>\n",
       "      <td>5.0</td>\n",
       "      <td>4.0</td>\n",
       "      <td>4.0</td>\n",
       "      <td>4.5</td>\n",
       "      <td>4.0</td>\n",
       "      <td>4.5</td>\n",
       "      <td>5.0</td>\n",
       "      <td>5.0</td>\n",
       "      <td>5.0</td>\n",
       "      <td>4.209524</td>\n",
       "      <td>3.954545</td>\n",
       "      <td>4.5</td>\n",
       "    </tr>\n",
       "    <tr>\n",
       "      <th>...</th>\n",
       "      <td>...</td>\n",
       "      <td>...</td>\n",
       "      <td>...</td>\n",
       "      <td>...</td>\n",
       "      <td>...</td>\n",
       "      <td>...</td>\n",
       "      <td>...</td>\n",
       "      <td>...</td>\n",
       "      <td>...</td>\n",
       "      <td>...</td>\n",
       "      <td>...</td>\n",
       "      <td>...</td>\n",
       "      <td>...</td>\n",
       "      <td>...</td>\n",
       "      <td>...</td>\n",
       "      <td>...</td>\n",
       "    </tr>\n",
       "    <tr>\n",
       "      <th>80663</th>\n",
       "      <td>184</td>\n",
       "      <td>193581</td>\n",
       "      <td>3.519977</td>\n",
       "      <td>4.0</td>\n",
       "      <td>4.0</td>\n",
       "      <td>4.0</td>\n",
       "      <td>4.0</td>\n",
       "      <td>4.0</td>\n",
       "      <td>5.0</td>\n",
       "      <td>3.5</td>\n",
       "      <td>4.0</td>\n",
       "      <td>3.5</td>\n",
       "      <td>4.5</td>\n",
       "      <td>3.705224</td>\n",
       "      <td>4.000000</td>\n",
       "      <td>4.0</td>\n",
       "    </tr>\n",
       "    <tr>\n",
       "      <th>80664</th>\n",
       "      <td>184</td>\n",
       "      <td>193583</td>\n",
       "      <td>3.519977</td>\n",
       "      <td>3.5</td>\n",
       "      <td>3.5</td>\n",
       "      <td>3.5</td>\n",
       "      <td>3.5</td>\n",
       "      <td>3.5</td>\n",
       "      <td>5.0</td>\n",
       "      <td>3.5</td>\n",
       "      <td>4.0</td>\n",
       "      <td>3.5</td>\n",
       "      <td>4.5</td>\n",
       "      <td>3.705224</td>\n",
       "      <td>3.500000</td>\n",
       "      <td>3.5</td>\n",
       "    </tr>\n",
       "    <tr>\n",
       "      <th>80665</th>\n",
       "      <td>184</td>\n",
       "      <td>193585</td>\n",
       "      <td>3.519977</td>\n",
       "      <td>3.5</td>\n",
       "      <td>3.5</td>\n",
       "      <td>3.5</td>\n",
       "      <td>3.5</td>\n",
       "      <td>3.5</td>\n",
       "      <td>5.0</td>\n",
       "      <td>3.5</td>\n",
       "      <td>4.0</td>\n",
       "      <td>3.5</td>\n",
       "      <td>4.5</td>\n",
       "      <td>3.705224</td>\n",
       "      <td>3.500000</td>\n",
       "      <td>3.5</td>\n",
       "    </tr>\n",
       "    <tr>\n",
       "      <th>80666</th>\n",
       "      <td>184</td>\n",
       "      <td>193587</td>\n",
       "      <td>3.519977</td>\n",
       "      <td>3.5</td>\n",
       "      <td>3.5</td>\n",
       "      <td>3.5</td>\n",
       "      <td>3.5</td>\n",
       "      <td>3.5</td>\n",
       "      <td>5.0</td>\n",
       "      <td>3.5</td>\n",
       "      <td>4.0</td>\n",
       "      <td>3.5</td>\n",
       "      <td>4.5</td>\n",
       "      <td>3.705224</td>\n",
       "      <td>3.500000</td>\n",
       "      <td>3.5</td>\n",
       "    </tr>\n",
       "    <tr>\n",
       "      <th>80667</th>\n",
       "      <td>331</td>\n",
       "      <td>193609</td>\n",
       "      <td>3.519977</td>\n",
       "      <td>4.0</td>\n",
       "      <td>4.0</td>\n",
       "      <td>4.0</td>\n",
       "      <td>4.0</td>\n",
       "      <td>4.0</td>\n",
       "      <td>4.0</td>\n",
       "      <td>4.0</td>\n",
       "      <td>5.0</td>\n",
       "      <td>4.0</td>\n",
       "      <td>5.0</td>\n",
       "      <td>3.627976</td>\n",
       "      <td>4.000000</td>\n",
       "      <td>4.0</td>\n",
       "    </tr>\n",
       "  </tbody>\n",
       "</table>\n",
       "<p>80668 rows × 16 columns</p>\n",
       "</div>"
      ],
      "text/plain": [
       "       user   movie      GAvg  sur1  sur2  sur3  sur4  sur5  smr1  smr2  smr3  \\\n",
       "0         1       1  3.519977   2.0   5.0   4.0   4.0   4.5   3.0   4.0   3.0   \n",
       "1         5       1  3.519977   4.0   5.0   4.0   4.0   5.0   4.0   3.0   3.0   \n",
       "2         7       1  3.519977   4.0   4.0   5.0   4.5   4.0   4.5   4.5   5.0   \n",
       "3        15       1  3.519977   5.0   3.0   4.0   4.0   4.0   3.5   3.0   5.0   \n",
       "4        17       1  3.519977   4.0   5.0   4.0   4.0   4.5   4.0   4.5   5.0   \n",
       "...     ...     ...       ...   ...   ...   ...   ...   ...   ...   ...   ...   \n",
       "80663   184  193581  3.519977   4.0   4.0   4.0   4.0   4.0   5.0   3.5   4.0   \n",
       "80664   184  193583  3.519977   3.5   3.5   3.5   3.5   3.5   5.0   3.5   4.0   \n",
       "80665   184  193585  3.519977   3.5   3.5   3.5   3.5   3.5   5.0   3.5   4.0   \n",
       "80666   184  193587  3.519977   3.5   3.5   3.5   3.5   3.5   5.0   3.5   4.0   \n",
       "80667   331  193609  3.519977   4.0   4.0   4.0   4.0   4.0   4.0   4.0   5.0   \n",
       "\n",
       "       smr4  smr5      UAvg      MAvg  rating  \n",
       "0       5.0   5.0  4.366379  3.954545     4.0  \n",
       "1       5.0   5.0  3.636364  3.954545     4.0  \n",
       "2       4.0   3.0  3.230263  3.954545     4.5  \n",
       "3       3.0   3.0  3.448148  3.954545     2.5  \n",
       "4       5.0   5.0  4.209524  3.954545     4.5  \n",
       "...     ...   ...       ...       ...     ...  \n",
       "80663   3.5   4.5  3.705224  4.000000     4.0  \n",
       "80664   3.5   4.5  3.705224  3.500000     3.5  \n",
       "80665   3.5   4.5  3.705224  3.500000     3.5  \n",
       "80666   3.5   4.5  3.705224  3.500000     3.5  \n",
       "80667   4.0   5.0  3.627976  4.000000     4.0  \n",
       "\n",
       "[80668 rows x 16 columns]"
      ]
     },
     "execution_count": 23,
     "metadata": {},
     "output_type": "execute_result"
    }
   ],
   "source": [
    "final_data"
   ]
  },
  {
   "cell_type": "code",
   "execution_count": 24,
   "id": "1739ec9f",
   "metadata": {},
   "outputs": [
    {
     "data": {
      "text/html": [
       "<div>\n",
       "<style scoped>\n",
       "    .dataframe tbody tr th:only-of-type {\n",
       "        vertical-align: middle;\n",
       "    }\n",
       "\n",
       "    .dataframe tbody tr th {\n",
       "        vertical-align: top;\n",
       "    }\n",
       "\n",
       "    .dataframe thead th {\n",
       "        text-align: right;\n",
       "    }\n",
       "</style>\n",
       "<table border=\"1\" class=\"dataframe\">\n",
       "  <thead>\n",
       "    <tr style=\"text-align: right;\">\n",
       "      <th></th>\n",
       "      <th>user</th>\n",
       "      <th>movie</th>\n",
       "      <th>GAvg</th>\n",
       "      <th>sur1</th>\n",
       "      <th>sur2</th>\n",
       "      <th>sur3</th>\n",
       "      <th>sur4</th>\n",
       "      <th>sur5</th>\n",
       "      <th>smr1</th>\n",
       "      <th>smr2</th>\n",
       "      <th>smr3</th>\n",
       "      <th>smr4</th>\n",
       "      <th>smr5</th>\n",
       "      <th>UAvg</th>\n",
       "      <th>MAvg</th>\n",
       "      <th>rating</th>\n",
       "      <th>mf_svd</th>\n",
       "    </tr>\n",
       "  </thead>\n",
       "  <tbody>\n",
       "    <tr>\n",
       "      <th>0</th>\n",
       "      <td>1</td>\n",
       "      <td>1</td>\n",
       "      <td>3.519977</td>\n",
       "      <td>2.0</td>\n",
       "      <td>5.0</td>\n",
       "      <td>4.0</td>\n",
       "      <td>4.0</td>\n",
       "      <td>4.5</td>\n",
       "      <td>3.0</td>\n",
       "      <td>4.0</td>\n",
       "      <td>3.0</td>\n",
       "      <td>5.0</td>\n",
       "      <td>5.0</td>\n",
       "      <td>4.366379</td>\n",
       "      <td>3.954545</td>\n",
       "      <td>4.0</td>\n",
       "      <td>4.306195</td>\n",
       "    </tr>\n",
       "    <tr>\n",
       "      <th>1</th>\n",
       "      <td>5</td>\n",
       "      <td>1</td>\n",
       "      <td>3.519977</td>\n",
       "      <td>4.0</td>\n",
       "      <td>5.0</td>\n",
       "      <td>4.0</td>\n",
       "      <td>4.0</td>\n",
       "      <td>5.0</td>\n",
       "      <td>4.0</td>\n",
       "      <td>3.0</td>\n",
       "      <td>3.0</td>\n",
       "      <td>5.0</td>\n",
       "      <td>5.0</td>\n",
       "      <td>3.636364</td>\n",
       "      <td>3.954545</td>\n",
       "      <td>4.0</td>\n",
       "      <td>3.941735</td>\n",
       "    </tr>\n",
       "    <tr>\n",
       "      <th>2</th>\n",
       "      <td>7</td>\n",
       "      <td>1</td>\n",
       "      <td>3.519977</td>\n",
       "      <td>4.0</td>\n",
       "      <td>4.0</td>\n",
       "      <td>5.0</td>\n",
       "      <td>4.5</td>\n",
       "      <td>4.0</td>\n",
       "      <td>4.5</td>\n",
       "      <td>4.5</td>\n",
       "      <td>5.0</td>\n",
       "      <td>4.0</td>\n",
       "      <td>3.0</td>\n",
       "      <td>3.230263</td>\n",
       "      <td>3.954545</td>\n",
       "      <td>4.5</td>\n",
       "      <td>4.543556</td>\n",
       "    </tr>\n",
       "    <tr>\n",
       "      <th>3</th>\n",
       "      <td>15</td>\n",
       "      <td>1</td>\n",
       "      <td>3.519977</td>\n",
       "      <td>5.0</td>\n",
       "      <td>3.0</td>\n",
       "      <td>4.0</td>\n",
       "      <td>4.0</td>\n",
       "      <td>4.0</td>\n",
       "      <td>3.5</td>\n",
       "      <td>3.0</td>\n",
       "      <td>5.0</td>\n",
       "      <td>3.0</td>\n",
       "      <td>3.0</td>\n",
       "      <td>3.448148</td>\n",
       "      <td>3.954545</td>\n",
       "      <td>2.5</td>\n",
       "      <td>4.677380</td>\n",
       "    </tr>\n",
       "    <tr>\n",
       "      <th>4</th>\n",
       "      <td>17</td>\n",
       "      <td>1</td>\n",
       "      <td>3.519977</td>\n",
       "      <td>4.0</td>\n",
       "      <td>5.0</td>\n",
       "      <td>4.0</td>\n",
       "      <td>4.0</td>\n",
       "      <td>4.5</td>\n",
       "      <td>4.0</td>\n",
       "      <td>4.5</td>\n",
       "      <td>5.0</td>\n",
       "      <td>5.0</td>\n",
       "      <td>5.0</td>\n",
       "      <td>4.209524</td>\n",
       "      <td>3.954545</td>\n",
       "      <td>4.5</td>\n",
       "      <td>4.810359</td>\n",
       "    </tr>\n",
       "  </tbody>\n",
       "</table>\n",
       "</div>"
      ],
      "text/plain": [
       "   user  movie      GAvg  sur1  sur2  sur3  sur4  sur5  smr1  smr2  smr3  \\\n",
       "0     1      1  3.519977   2.0   5.0   4.0   4.0   4.5   3.0   4.0   3.0   \n",
       "1     5      1  3.519977   4.0   5.0   4.0   4.0   5.0   4.0   3.0   3.0   \n",
       "2     7      1  3.519977   4.0   4.0   5.0   4.5   4.0   4.5   4.5   5.0   \n",
       "3    15      1  3.519977   5.0   3.0   4.0   4.0   4.0   3.5   3.0   5.0   \n",
       "4    17      1  3.519977   4.0   5.0   4.0   4.0   4.5   4.0   4.5   5.0   \n",
       "\n",
       "   smr4  smr5      UAvg      MAvg  rating    mf_svd  \n",
       "0   5.0   5.0  4.366379  3.954545     4.0  4.306195  \n",
       "1   5.0   5.0  3.636364  3.954545     4.0  3.941735  \n",
       "2   4.0   3.0  3.230263  3.954545     4.5  4.543556  \n",
       "3   3.0   3.0  3.448148  3.954545     2.5  4.677380  \n",
       "4   5.0   5.0  4.209524  3.954545     4.5  4.810359  "
      ]
     },
     "execution_count": 24,
     "metadata": {},
     "output_type": "execute_result"
    }
   ],
   "source": [
    "final_data['mf_svd'] = train_pred_mf\n",
    "final_data.head()"
   ]
  },
  {
   "cell_type": "code",
   "execution_count": 25,
   "id": "4ec05b20",
   "metadata": {},
   "outputs": [],
   "source": [
    "#Guardar al terminar\n",
    "final_data.to_csv('final_data.csv', index=False)"
   ]
  },
  {
   "cell_type": "markdown",
   "id": "9da34082",
   "metadata": {},
   "source": [
    "# Preparando la Información de Prueba"
   ]
  },
  {
   "cell_type": "code",
   "execution_count": 26,
   "id": "16ed03b6",
   "metadata": {},
   "outputs": [],
   "source": [
    "# Creando la matriz dispersa\n",
    "test_sparse_matrix = sparse.csr_matrix((test_data.rating.values, (test_data.userId.values, test_data.movieId.values)))"
   ]
  },
  {
   "cell_type": "code",
   "execution_count": 27,
   "id": "0f741207",
   "metadata": {},
   "outputs": [
    {
     "data": {
      "text/plain": [
       "{'global': 3.4278808012693376}"
      ]
     },
     "execution_count": 27,
     "metadata": {},
     "output_type": "execute_result"
    }
   ],
   "source": [
    "# Promedio global de todas las peliculas por todos los usuarios\n",
    "\n",
    "test_averages = dict()\n",
    "\n",
    "# Obtener el promedio global de los ratings en nuestro set de entrenamiento\n",
    "test_global_average = test_sparse_matrix.sum()/test_sparse_matrix.count_nonzero()\n",
    "test_averages['global'] = test_global_average\n",
    "test_averages"
   ]
  },
  {
   "cell_type": "code",
   "execution_count": 28,
   "id": "d3655be7",
   "metadata": {},
   "outputs": [
    {
     "name": "stdout",
     "output_type": "stream",
     "text": [
      "\n",
      " Rating promedio del usuario 524: 3.4580152671755724\n"
     ]
    }
   ],
   "source": [
    "# Ratings promedio por usuario\n",
    "test_averages['user'] = get_average_raitings(test_sparse_matrix, of_users=True)\n",
    "print('\\n Rating promedio del usuario 524:', test_averages['user'][524])"
   ]
  },
  {
   "cell_type": "code",
   "execution_count": 29,
   "id": "0e27b183",
   "metadata": {},
   "outputs": [
    {
     "name": "stdout",
     "output_type": "stream",
     "text": [
      "\n",
      " Rating promedio de la pelicula 528: 3.4726027397260273\n"
     ]
    }
   ],
   "source": [
    "# Rating promedio por pelicula\n",
    "test_averages['movie'] = get_average_raitings(test_sparse_matrix, of_users=False)\n",
    "print('\\n Rating promedio de la pelicula 528:', test_averages['user'][528])"
   ]
  },
  {
   "cell_type": "code",
   "execution_count": 30,
   "id": "63841746",
   "metadata": {},
   "outputs": [],
   "source": [
    "# Obtener usuarios, peliculas y ratings de la meustra de la matriz de entramiento dispersa\n",
    "test_users, test_movies, test_ratings = sparse.find(test_sparse_matrix)"
   ]
  },
  {
   "cell_type": "code",
   "execution_count": 35,
   "id": "b5e35fc0",
   "metadata": {},
   "outputs": [
    {
     "name": "stdout",
     "output_type": "stream",
     "text": [
      "Done for 10000 rows----- 0:02:03.667843\n",
      "Done for 20000 rows----- 0:04:09.741937\n",
      "0:04:11.751508\n"
     ]
    }
   ],
   "source": [
    "final_test_data = pd.DataFrame()\n",
    "count = 0\n",
    "start = datetime.now()\n",
    "\n",
    "for (user, movie, rating) in zip(test_users, test_movies, test_ratings):\n",
    "    #print(user,movie)\n",
    "    \n",
    "    # Ratings de peliculas de \"movie\" por similaridad de usuarios de \"user\"\n",
    "    # Calcular la similaridad de los usuarios de \"user\"\n",
    "    user_sim = cosine_similarity(test_sparse_matrix[user], test_sparse_matrix). ravel()\n",
    "    top_sim_users = user_sim.argsort()[::-1][1:]\n",
    "    # Obtener los ratings de los usuarios mas similares para la pelicula\n",
    "    top_ratings = test_sparse_matrix[top_sim_users, movie].toarray().ravel()\n",
    "    # Vamos a hacer una longitud de \"5\" añadiendo el promedio de las peliculas\n",
    "    top_sim_users_ratings = list(top_ratings[top_ratings != 0][:5])\n",
    "    top_sim_users_ratings.extend([test_averages['movie'][movie]]*(5 - len(top_sim_users_ratings)))\n",
    "    #print(top_sim_users_ratings, end=\" \")\n",
    "    \n",
    "    # Ratings de usuarios \"user\" para peliculas similares de \"movie\"\n",
    "    # Calcular las peliculas similares de \"movie\"\n",
    "    movie_sim = cosine_similarity(test_sparse_matrix[:, movie].T, test_sparse_matrix.T).ravel()\n",
    "    top_sim_movies = movie_sim.argsort()[::-1][1:]\n",
    "    # Obtener el rating de las peliculas mas similares calificada por el usuario\n",
    "    top_ratings = test_sparse_matrix[user, top_sim_movies].toarray().ravel()\n",
    "    # Vamos a hacerlo una longitud de \"5\" añadiendo el promedio de los usuarios\n",
    "    top_sim_movies_ratings = list(top_ratings[top_ratings != 0][:5])\n",
    "    top_sim_movies_ratings.extend([test_averages['user'][user]]*(5 - len(top_sim_movies_ratings)))\n",
    "    #print(top_sim_movies_ratings, end=\" \")\n",
    "    \n",
    "    # Preparar la fila para guardarlo en un archivo\n",
    "    row = list()\n",
    "    row.append(user)\n",
    "    row.append(movie)\n",
    "    row.append(train_averages['global'])\n",
    "    row.extend(top_sim_users_ratings)\n",
    "    row.extend(top_sim_movies_ratings)\n",
    "    row.append(test_averages['user'][user])\n",
    "    row.append(test_averages['movie'][movie])\n",
    "\n",
    "    row.append(rating)\n",
    "    count = count + 1\n",
    "    final_test_data = pd.concat([final_test_data, pd.DataFrame([row])], ignore_index=True)\n",
    "\n",
    "    if (count)%10000 == 0:\n",
    "        # print(','.join(map(str, row)))\n",
    "        print(\"Done for {} rows----- {}\".format(count, datetime.now() - start))\n",
    "                \n",
    "print(datetime.now() - start)"
   ]
  },
  {
   "cell_type": "code",
   "execution_count": 36,
   "id": "7bc6cabf",
   "metadata": {},
   "outputs": [],
   "source": [
    "final_test_data.columns = ['user', 'movie', 'GAvg', 'sur1', 'sur2', 'sur3', 'sur4', 'sur5', 'smr1', 'smr2', 'smr3', 'smr4',\n",
    "                      'smr5', 'UAvg', 'MAvg', 'rating']"
   ]
  },
  {
   "cell_type": "code",
   "execution_count": 37,
   "id": "b632d409",
   "metadata": {},
   "outputs": [
    {
     "data": {
      "text/html": [
       "<div>\n",
       "<style scoped>\n",
       "    .dataframe tbody tr th:only-of-type {\n",
       "        vertical-align: middle;\n",
       "    }\n",
       "\n",
       "    .dataframe tbody tr th {\n",
       "        vertical-align: top;\n",
       "    }\n",
       "\n",
       "    .dataframe thead th {\n",
       "        text-align: right;\n",
       "    }\n",
       "</style>\n",
       "<table border=\"1\" class=\"dataframe\">\n",
       "  <thead>\n",
       "    <tr style=\"text-align: right;\">\n",
       "      <th></th>\n",
       "      <th>user</th>\n",
       "      <th>movie</th>\n",
       "      <th>GAvg</th>\n",
       "      <th>sur1</th>\n",
       "      <th>sur2</th>\n",
       "      <th>sur3</th>\n",
       "      <th>sur4</th>\n",
       "      <th>sur5</th>\n",
       "      <th>smr1</th>\n",
       "      <th>smr2</th>\n",
       "      <th>smr3</th>\n",
       "      <th>smr4</th>\n",
       "      <th>smr5</th>\n",
       "      <th>UAvg</th>\n",
       "      <th>MAvg</th>\n",
       "      <th>rating</th>\n",
       "    </tr>\n",
       "  </thead>\n",
       "  <tbody>\n",
       "    <tr>\n",
       "      <th>0</th>\n",
       "      <td>514</td>\n",
       "      <td>1</td>\n",
       "      <td>3.519977</td>\n",
       "      <td>4.0</td>\n",
       "      <td>4.00</td>\n",
       "      <td>4.00</td>\n",
       "      <td>4.00</td>\n",
       "      <td>4.00</td>\n",
       "      <td>4.0</td>\n",
       "      <td>4.0</td>\n",
       "      <td>4.0</td>\n",
       "      <td>2.5</td>\n",
       "      <td>5.0</td>\n",
       "      <td>3.311083</td>\n",
       "      <td>3.769231</td>\n",
       "      <td>4.0</td>\n",
       "    </tr>\n",
       "    <tr>\n",
       "      <th>1</th>\n",
       "      <td>517</td>\n",
       "      <td>1</td>\n",
       "      <td>3.519977</td>\n",
       "      <td>4.0</td>\n",
       "      <td>4.00</td>\n",
       "      <td>4.00</td>\n",
       "      <td>2.50</td>\n",
       "      <td>4.00</td>\n",
       "      <td>3.5</td>\n",
       "      <td>2.0</td>\n",
       "      <td>3.0</td>\n",
       "      <td>3.5</td>\n",
       "      <td>5.0</td>\n",
       "      <td>2.386250</td>\n",
       "      <td>3.769231</td>\n",
       "      <td>4.0</td>\n",
       "    </tr>\n",
       "    <tr>\n",
       "      <th>2</th>\n",
       "      <td>522</td>\n",
       "      <td>1</td>\n",
       "      <td>3.519977</td>\n",
       "      <td>5.0</td>\n",
       "      <td>4.00</td>\n",
       "      <td>4.00</td>\n",
       "      <td>4.00</td>\n",
       "      <td>3.00</td>\n",
       "      <td>3.5</td>\n",
       "      <td>4.0</td>\n",
       "      <td>5.0</td>\n",
       "      <td>5.0</td>\n",
       "      <td>5.0</td>\n",
       "      <td>3.830000</td>\n",
       "      <td>3.769231</td>\n",
       "      <td>3.0</td>\n",
       "    </tr>\n",
       "    <tr>\n",
       "      <th>3</th>\n",
       "      <td>524</td>\n",
       "      <td>1</td>\n",
       "      <td>3.519977</td>\n",
       "      <td>5.0</td>\n",
       "      <td>4.00</td>\n",
       "      <td>5.00</td>\n",
       "      <td>3.00</td>\n",
       "      <td>4.00</td>\n",
       "      <td>3.0</td>\n",
       "      <td>3.0</td>\n",
       "      <td>3.0</td>\n",
       "      <td>5.0</td>\n",
       "      <td>5.0</td>\n",
       "      <td>3.458015</td>\n",
       "      <td>3.769231</td>\n",
       "      <td>4.0</td>\n",
       "    </tr>\n",
       "    <tr>\n",
       "      <th>4</th>\n",
       "      <td>525</td>\n",
       "      <td>1</td>\n",
       "      <td>3.519977</td>\n",
       "      <td>4.0</td>\n",
       "      <td>3.00</td>\n",
       "      <td>5.00</td>\n",
       "      <td>2.50</td>\n",
       "      <td>4.00</td>\n",
       "      <td>4.0</td>\n",
       "      <td>4.0</td>\n",
       "      <td>4.0</td>\n",
       "      <td>4.5</td>\n",
       "      <td>4.0</td>\n",
       "      <td>3.542000</td>\n",
       "      <td>3.769231</td>\n",
       "      <td>4.0</td>\n",
       "    </tr>\n",
       "    <tr>\n",
       "      <th>...</th>\n",
       "      <td>...</td>\n",
       "      <td>...</td>\n",
       "      <td>...</td>\n",
       "      <td>...</td>\n",
       "      <td>...</td>\n",
       "      <td>...</td>\n",
       "      <td>...</td>\n",
       "      <td>...</td>\n",
       "      <td>...</td>\n",
       "      <td>...</td>\n",
       "      <td>...</td>\n",
       "      <td>...</td>\n",
       "      <td>...</td>\n",
       "      <td>...</td>\n",
       "      <td>...</td>\n",
       "      <td>...</td>\n",
       "    </tr>\n",
       "    <tr>\n",
       "      <th>20163</th>\n",
       "      <td>586</td>\n",
       "      <td>187593</td>\n",
       "      <td>3.519977</td>\n",
       "      <td>3.5</td>\n",
       "      <td>3.75</td>\n",
       "      <td>3.75</td>\n",
       "      <td>3.75</td>\n",
       "      <td>3.75</td>\n",
       "      <td>5.0</td>\n",
       "      <td>3.5</td>\n",
       "      <td>3.5</td>\n",
       "      <td>4.0</td>\n",
       "      <td>5.0</td>\n",
       "      <td>4.365385</td>\n",
       "      <td>3.750000</td>\n",
       "      <td>4.0</td>\n",
       "    </tr>\n",
       "    <tr>\n",
       "      <th>20164</th>\n",
       "      <td>514</td>\n",
       "      <td>187595</td>\n",
       "      <td>3.519977</td>\n",
       "      <td>5.0</td>\n",
       "      <td>4.00</td>\n",
       "      <td>4.00</td>\n",
       "      <td>4.00</td>\n",
       "      <td>4.00</td>\n",
       "      <td>3.5</td>\n",
       "      <td>2.0</td>\n",
       "      <td>4.0</td>\n",
       "      <td>2.0</td>\n",
       "      <td>3.0</td>\n",
       "      <td>3.311083</td>\n",
       "      <td>4.000000</td>\n",
       "      <td>3.0</td>\n",
       "    </tr>\n",
       "    <tr>\n",
       "      <th>20165</th>\n",
       "      <td>586</td>\n",
       "      <td>187595</td>\n",
       "      <td>3.519977</td>\n",
       "      <td>3.0</td>\n",
       "      <td>4.00</td>\n",
       "      <td>4.00</td>\n",
       "      <td>4.00</td>\n",
       "      <td>4.00</td>\n",
       "      <td>4.0</td>\n",
       "      <td>4.5</td>\n",
       "      <td>4.0</td>\n",
       "      <td>4.0</td>\n",
       "      <td>4.0</td>\n",
       "      <td>4.365385</td>\n",
       "      <td>4.000000</td>\n",
       "      <td>5.0</td>\n",
       "    </tr>\n",
       "    <tr>\n",
       "      <th>20166</th>\n",
       "      <td>596</td>\n",
       "      <td>188301</td>\n",
       "      <td>3.519977</td>\n",
       "      <td>4.0</td>\n",
       "      <td>4.00</td>\n",
       "      <td>4.00</td>\n",
       "      <td>4.00</td>\n",
       "      <td>4.00</td>\n",
       "      <td>4.0</td>\n",
       "      <td>4.5</td>\n",
       "      <td>2.5</td>\n",
       "      <td>4.0</td>\n",
       "      <td>4.0</td>\n",
       "      <td>3.495134</td>\n",
       "      <td>4.000000</td>\n",
       "      <td>4.0</td>\n",
       "    </tr>\n",
       "    <tr>\n",
       "      <th>20167</th>\n",
       "      <td>514</td>\n",
       "      <td>188797</td>\n",
       "      <td>3.519977</td>\n",
       "      <td>4.0</td>\n",
       "      <td>4.00</td>\n",
       "      <td>4.00</td>\n",
       "      <td>4.00</td>\n",
       "      <td>4.00</td>\n",
       "      <td>0.5</td>\n",
       "      <td>2.0</td>\n",
       "      <td>2.0</td>\n",
       "      <td>3.0</td>\n",
       "      <td>2.0</td>\n",
       "      <td>3.311083</td>\n",
       "      <td>4.000000</td>\n",
       "      <td>4.0</td>\n",
       "    </tr>\n",
       "  </tbody>\n",
       "</table>\n",
       "<p>20168 rows × 16 columns</p>\n",
       "</div>"
      ],
      "text/plain": [
       "       user   movie      GAvg  sur1  sur2  sur3  sur4  sur5  smr1  smr2  smr3  \\\n",
       "0       514       1  3.519977   4.0  4.00  4.00  4.00  4.00   4.0   4.0   4.0   \n",
       "1       517       1  3.519977   4.0  4.00  4.00  2.50  4.00   3.5   2.0   3.0   \n",
       "2       522       1  3.519977   5.0  4.00  4.00  4.00  3.00   3.5   4.0   5.0   \n",
       "3       524       1  3.519977   5.0  4.00  5.00  3.00  4.00   3.0   3.0   3.0   \n",
       "4       525       1  3.519977   4.0  3.00  5.00  2.50  4.00   4.0   4.0   4.0   \n",
       "...     ...     ...       ...   ...   ...   ...   ...   ...   ...   ...   ...   \n",
       "20163   586  187593  3.519977   3.5  3.75  3.75  3.75  3.75   5.0   3.5   3.5   \n",
       "20164   514  187595  3.519977   5.0  4.00  4.00  4.00  4.00   3.5   2.0   4.0   \n",
       "20165   586  187595  3.519977   3.0  4.00  4.00  4.00  4.00   4.0   4.5   4.0   \n",
       "20166   596  188301  3.519977   4.0  4.00  4.00  4.00  4.00   4.0   4.5   2.5   \n",
       "20167   514  188797  3.519977   4.0  4.00  4.00  4.00  4.00   0.5   2.0   2.0   \n",
       "\n",
       "       smr4  smr5      UAvg      MAvg  rating  \n",
       "0       2.5   5.0  3.311083  3.769231     4.0  \n",
       "1       3.5   5.0  2.386250  3.769231     4.0  \n",
       "2       5.0   5.0  3.830000  3.769231     3.0  \n",
       "3       5.0   5.0  3.458015  3.769231     4.0  \n",
       "4       4.5   4.0  3.542000  3.769231     4.0  \n",
       "...     ...   ...       ...       ...     ...  \n",
       "20163   4.0   5.0  4.365385  3.750000     4.0  \n",
       "20164   2.0   3.0  3.311083  4.000000     3.0  \n",
       "20165   4.0   4.0  4.365385  4.000000     5.0  \n",
       "20166   4.0   4.0  3.495134  4.000000     4.0  \n",
       "20167   3.0   2.0  3.311083  4.000000     4.0  \n",
       "\n",
       "[20168 rows x 16 columns]"
      ]
     },
     "execution_count": 37,
     "metadata": {},
     "output_type": "execute_result"
    }
   ],
   "source": [
    "final_test_data"
   ]
  },
  {
   "cell_type": "code",
   "execution_count": 39,
   "id": "7963bff1",
   "metadata": {},
   "outputs": [],
   "source": [
    "final_test_data['mf_svd'] = test_pred_mf"
   ]
  },
  {
   "cell_type": "code",
   "execution_count": 42,
   "id": "655bc8e5",
   "metadata": {},
   "outputs": [],
   "source": [
    "final_test_data.to_csv('final_test_data.csv', index=False)"
   ]
  },
  {
   "cell_type": "markdown",
   "id": "54580b83",
   "metadata": {},
   "source": [
    "# Creando el XGBoost\n",
    "### Optimized distributed gradient  boosting library"
   ]
  },
  {
   "cell_type": "code",
   "execution_count": 55,
   "id": "23fb4d90",
   "metadata": {},
   "outputs": [],
   "source": [
    "def get_error_metrics(y_true, y_pred):\n",
    "    rmse = np.sqrt(np.mean([(y_true[i] - y_pred[i])**2 for i in range(len(y_pred))]))\n",
    "    mape = np.mean(np.abs((y_true - y_pred)/y_true)) * 100\n",
    "    return rmse, mape"
   ]
  },
  {
   "cell_type": "code",
   "execution_count": 44,
   "id": "cea53df3",
   "metadata": {},
   "outputs": [],
   "source": [
    "# Preparando los datos de entrenamiento\n",
    "x_train = final_data.drop(['user', 'movie', 'rating'], axis = 1)\n",
    "y_train = final_data['rating']"
   ]
  },
  {
   "cell_type": "code",
   "execution_count": 45,
   "id": "08d2ec4f",
   "metadata": {},
   "outputs": [],
   "source": [
    "# Preparando los datos de prueba\n",
    "x_test = final_test_data.drop(['user', 'movie', 'rating'], axis = 1)\n",
    "y_test = final_test_data['rating']"
   ]
  },
  {
   "cell_type": "code",
   "execution_count": 49,
   "id": "e9c4da6c",
   "metadata": {},
   "outputs": [],
   "source": [
    "import xgboost as xgb"
   ]
  },
  {
   "cell_type": "code",
   "execution_count": 51,
   "id": "6354e935",
   "metadata": {},
   "outputs": [
    {
     "name": "stdout",
     "output_type": "stream",
     "text": [
      "Entrenando el modelo...\n",
      "Hecho. Tiempo tomado: 0:00:00.178554\n",
      "\n",
      "Terminado\n"
     ]
    }
   ],
   "source": [
    "# Inicializando el modelo XGBoost\n",
    "xgb_model = xgb.XGBRegressor( n_jobs = 13, random_state = 15, n_estimators = 100)\n",
    "\n",
    "# Diccionarios para guardar los resultados de entrenamiento y prueba\n",
    "train_results = dict()\n",
    "test_results = dict()\n",
    "\n",
    "# Ajustar el modelo\n",
    "print('Entrenando el modelo...')\n",
    "start = datetime.now()\n",
    "xgb_model.fit(x_train, y_train, eval_metric = 'rmse')\n",
    "print('Hecho. Tiempo tomado: {}\\n'.format(datetime.now() - start))\n",
    "print('Terminado')"
   ]
  },
  {
   "cell_type": "code",
   "execution_count": 56,
   "id": "4278b943",
   "metadata": {},
   "outputs": [
    {
     "name": "stdout",
     "output_type": "stream",
     "text": [
      "Evaluando el modelo con train_data\n"
     ]
    }
   ],
   "source": [
    "# Obtener las predicciones del modelo entrenado\n",
    "print('Evaluando el modelo con train_data')\n",
    "start = datetime.now()\n",
    "y_train_pred = xgb_model.predict(x_train)\n",
    "\n",
    "# Obtener el rmse y mape de la informacion de entrenamiento\n",
    "rmse_train, mape_train = get_error_metrics(y_train.values, y_train_pred)\n",
    "\n",
    "# Guardar los resultados en el diccionario train_results\n",
    "train_results = {'rmse': rmse_train, 'mape': mape_train, 'predictions': y_train_pred}"
   ]
  },
  {
   "cell_type": "code",
   "execution_count": 57,
   "id": "be8145a0",
   "metadata": {},
   "outputs": [
    {
     "data": {
      "text/plain": [
       "{'rmse': 0.6749454808339831,\n",
       " 'mape': 20.440257050215205,\n",
       " 'predictions': array([4.061627 , 4.1507144, 4.003096 , ..., 3.7413933, 3.7257297,\n",
       "        4.1561704], dtype=float32)}"
      ]
     },
     "execution_count": 57,
     "metadata": {},
     "output_type": "execute_result"
    }
   ],
   "source": [
    "train_results"
   ]
  },
  {
   "cell_type": "code",
   "execution_count": 59,
   "id": "5fad563d",
   "metadata": {},
   "outputs": [
    {
     "name": "stdout",
     "output_type": "stream",
     "text": [
      "Evaluando Test Data\n"
     ]
    }
   ],
   "source": [
    "# Obtener la data de prediccion de prueba y calcular rl rmse y mape\n",
    "print('Evaluando Test Data')\n",
    "y_test_pred = xgb_model.predict(x_test)\n",
    "rmse_test, mape_test = get_error_metrics(y_true = y_test.values, y_pred = y_test_pred)\n",
    "\n",
    "# Guardar los resultados en el diccionario test_results\n",
    "test_results = {'rmse': rmse_test, 'mape': mape_test, 'predictions': y_test_pred}"
   ]
  },
  {
   "cell_type": "code",
   "execution_count": 60,
   "id": "caa0b7f7",
   "metadata": {},
   "outputs": [
    {
     "data": {
      "text/plain": [
       "{'rmse': 0.6684609078597152,\n",
       " 'mape': 19.76102533371047,\n",
       " 'predictions': array([3.7305498, 3.083081 , 4.153682 , ..., 4.3296375, 4.243002 ,\n",
       "        3.0668445], dtype=float32)}"
      ]
     },
     "execution_count": 60,
     "metadata": {},
     "output_type": "execute_result"
    }
   ],
   "source": [
    "test_results"
   ]
  }
 ],
 "metadata": {
  "kernelspec": {
   "display_name": "Python 3 (ipykernel)",
   "language": "python",
   "name": "python3"
  },
  "language_info": {
   "codemirror_mode": {
    "name": "ipython",
    "version": 3
   },
   "file_extension": ".py",
   "mimetype": "text/x-python",
   "name": "python",
   "nbconvert_exporter": "python",
   "pygments_lexer": "ipython3",
   "version": "3.9.15"
  }
 },
 "nbformat": 4,
 "nbformat_minor": 5
}
