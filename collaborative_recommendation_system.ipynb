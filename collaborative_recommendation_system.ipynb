{
 "cells": [
  {
   "cell_type": "markdown",
   "id": "a33302c3",
   "metadata": {},
   "source": [
    "Info\n",
    "https://notebooks.gesis.org/binder/jupyter/user/ipython-ipython-in-depth-p1yfe52k/notebooks/binder/Index.ipynb\n",
    "\n",
    "Project\n",
    "https://towardsdatascience.com/how-to-build-a-movie-recommendation-system-67e321339109\n",
    "\n",
    "Other resource\n",
    "https://github.com/nishantml/NETFLIX-MOVIE-RECOMMENDATION-SYSTEM/blob/master/Netflix_Movie.ipynb"
   ]
  },
  {
   "cell_type": "code",
   "execution_count": 3,
   "id": "c251c094",
   "metadata": {},
   "outputs": [
    {
     "data": {
      "text/html": [
       "<div>\n",
       "<style scoped>\n",
       "    .dataframe tbody tr th:only-of-type {\n",
       "        vertical-align: middle;\n",
       "    }\n",
       "\n",
       "    .dataframe tbody tr th {\n",
       "        vertical-align: top;\n",
       "    }\n",
       "\n",
       "    .dataframe thead th {\n",
       "        text-align: right;\n",
       "    }\n",
       "</style>\n",
       "<table border=\"1\" class=\"dataframe\">\n",
       "  <thead>\n",
       "    <tr style=\"text-align: right;\">\n",
       "      <th></th>\n",
       "      <th>userId</th>\n",
       "      <th>movieId</th>\n",
       "      <th>rating</th>\n",
       "      <th>timestamp</th>\n",
       "    </tr>\n",
       "  </thead>\n",
       "  <tbody>\n",
       "    <tr>\n",
       "      <th>0</th>\n",
       "      <td>1</td>\n",
       "      <td>1</td>\n",
       "      <td>4.0</td>\n",
       "      <td>964982703</td>\n",
       "    </tr>\n",
       "    <tr>\n",
       "      <th>1</th>\n",
       "      <td>1</td>\n",
       "      <td>3</td>\n",
       "      <td>4.0</td>\n",
       "      <td>964981247</td>\n",
       "    </tr>\n",
       "    <tr>\n",
       "      <th>2</th>\n",
       "      <td>1</td>\n",
       "      <td>6</td>\n",
       "      <td>4.0</td>\n",
       "      <td>964982224</td>\n",
       "    </tr>\n",
       "    <tr>\n",
       "      <th>3</th>\n",
       "      <td>1</td>\n",
       "      <td>47</td>\n",
       "      <td>5.0</td>\n",
       "      <td>964983815</td>\n",
       "    </tr>\n",
       "    <tr>\n",
       "      <th>4</th>\n",
       "      <td>1</td>\n",
       "      <td>50</td>\n",
       "      <td>5.0</td>\n",
       "      <td>964982931</td>\n",
       "    </tr>\n",
       "    <tr>\n",
       "      <th>...</th>\n",
       "      <td>...</td>\n",
       "      <td>...</td>\n",
       "      <td>...</td>\n",
       "      <td>...</td>\n",
       "    </tr>\n",
       "    <tr>\n",
       "      <th>100831</th>\n",
       "      <td>610</td>\n",
       "      <td>166534</td>\n",
       "      <td>4.0</td>\n",
       "      <td>1493848402</td>\n",
       "    </tr>\n",
       "    <tr>\n",
       "      <th>100832</th>\n",
       "      <td>610</td>\n",
       "      <td>168248</td>\n",
       "      <td>5.0</td>\n",
       "      <td>1493850091</td>\n",
       "    </tr>\n",
       "    <tr>\n",
       "      <th>100833</th>\n",
       "      <td>610</td>\n",
       "      <td>168250</td>\n",
       "      <td>5.0</td>\n",
       "      <td>1494273047</td>\n",
       "    </tr>\n",
       "    <tr>\n",
       "      <th>100834</th>\n",
       "      <td>610</td>\n",
       "      <td>168252</td>\n",
       "      <td>5.0</td>\n",
       "      <td>1493846352</td>\n",
       "    </tr>\n",
       "    <tr>\n",
       "      <th>100835</th>\n",
       "      <td>610</td>\n",
       "      <td>170875</td>\n",
       "      <td>3.0</td>\n",
       "      <td>1493846415</td>\n",
       "    </tr>\n",
       "  </tbody>\n",
       "</table>\n",
       "<p>100836 rows × 4 columns</p>\n",
       "</div>"
      ],
      "text/plain": [
       "        userId  movieId  rating   timestamp\n",
       "0            1        1     4.0   964982703\n",
       "1            1        3     4.0   964981247\n",
       "2            1        6     4.0   964982224\n",
       "3            1       47     5.0   964983815\n",
       "4            1       50     5.0   964982931\n",
       "...        ...      ...     ...         ...\n",
       "100831     610   166534     4.0  1493848402\n",
       "100832     610   168248     5.0  1493850091\n",
       "100833     610   168250     5.0  1494273047\n",
       "100834     610   168252     5.0  1493846352\n",
       "100835     610   170875     3.0  1493846415\n",
       "\n",
       "[100836 rows x 4 columns]"
      ]
     },
     "execution_count": 3,
     "metadata": {},
     "output_type": "execute_result"
    }
   ],
   "source": [
    "import pandas as pd\n",
    "data = pd.read_csv(\"ml-latest-small/ratings.csv\")\n",
    "data"
   ]
  },
  {
   "cell_type": "code",
   "execution_count": 4,
   "id": "e3c96432",
   "metadata": {},
   "outputs": [
    {
     "data": {
      "text/html": [
       "<div>\n",
       "<style scoped>\n",
       "    .dataframe tbody tr th:only-of-type {\n",
       "        vertical-align: middle;\n",
       "    }\n",
       "\n",
       "    .dataframe tbody tr th {\n",
       "        vertical-align: top;\n",
       "    }\n",
       "\n",
       "    .dataframe thead th {\n",
       "        text-align: right;\n",
       "    }\n",
       "</style>\n",
       "<table border=\"1\" class=\"dataframe\">\n",
       "  <thead>\n",
       "    <tr style=\"text-align: right;\">\n",
       "      <th></th>\n",
       "      <th>userId</th>\n",
       "      <th>movieId</th>\n",
       "      <th>rating</th>\n",
       "    </tr>\n",
       "  </thead>\n",
       "  <tbody>\n",
       "    <tr>\n",
       "      <th>0</th>\n",
       "      <td>1</td>\n",
       "      <td>1</td>\n",
       "      <td>4.0</td>\n",
       "    </tr>\n",
       "    <tr>\n",
       "      <th>1</th>\n",
       "      <td>1</td>\n",
       "      <td>3</td>\n",
       "      <td>4.0</td>\n",
       "    </tr>\n",
       "    <tr>\n",
       "      <th>2</th>\n",
       "      <td>1</td>\n",
       "      <td>6</td>\n",
       "      <td>4.0</td>\n",
       "    </tr>\n",
       "    <tr>\n",
       "      <th>3</th>\n",
       "      <td>1</td>\n",
       "      <td>47</td>\n",
       "      <td>5.0</td>\n",
       "    </tr>\n",
       "    <tr>\n",
       "      <th>4</th>\n",
       "      <td>1</td>\n",
       "      <td>50</td>\n",
       "      <td>5.0</td>\n",
       "    </tr>\n",
       "  </tbody>\n",
       "</table>\n",
       "</div>"
      ],
      "text/plain": [
       "   userId  movieId  rating\n",
       "0       1        1     4.0\n",
       "1       1        3     4.0\n",
       "2       1        6     4.0\n",
       "3       1       47     5.0\n",
       "4       1       50     5.0"
      ]
     },
     "execution_count": 4,
     "metadata": {},
     "output_type": "execute_result"
    }
   ],
   "source": [
    "data = data.drop('timestamp', axis=1)\n",
    "data.head()"
   ]
  },
  {
   "cell_type": "markdown",
   "id": "25079b62",
   "metadata": {},
   "source": [
    "# Splitting the data"
   ]
  },
  {
   "cell_type": "code",
   "execution_count": 5,
   "id": "fa1061b6",
   "metadata": {},
   "outputs": [
    {
     "data": {
      "text/plain": [
       "(100836, 3)"
      ]
     },
     "execution_count": 5,
     "metadata": {},
     "output_type": "execute_result"
    }
   ],
   "source": [
    "data.shape"
   ]
  },
  {
   "cell_type": "code",
   "execution_count": 6,
   "id": "d8fc1ea4",
   "metadata": {},
   "outputs": [],
   "source": [
    "train_data = data.iloc[:int(data.shape[0]*0.80)]\n",
    "test_data = data.iloc[int(data.shape[0]*0.80):]"
   ]
  },
  {
   "cell_type": "code",
   "execution_count": 7,
   "id": "a935d618",
   "metadata": {},
   "outputs": [
    {
     "data": {
      "text/plain": [
       "(80668, 3)"
      ]
     },
     "execution_count": 7,
     "metadata": {},
     "output_type": "execute_result"
    }
   ],
   "source": [
    "train_data.shape"
   ]
  },
  {
   "cell_type": "code",
   "execution_count": 8,
   "id": "cf437842",
   "metadata": {},
   "outputs": [
    {
     "data": {
      "text/plain": [
       "(20168, 3)"
      ]
     },
     "execution_count": 8,
     "metadata": {},
     "output_type": "execute_result"
    }
   ],
   "source": [
    "test_data.shape"
   ]
  },
  {
   "cell_type": "markdown",
   "id": "c21f840d",
   "metadata": {},
   "source": [
    "# Matrix Factorization"
   ]
  },
  {
   "cell_type": "code",
   "execution_count": 9,
   "id": "bf6e80f0",
   "metadata": {},
   "outputs": [],
   "source": [
    "from surprise import SVD\n",
    "import numpy as np\n",
    "import surprise\n",
    "from surprise import Reader, Dataset\n",
    "from scipy import sparse"
   ]
  },
  {
   "cell_type": "code",
   "execution_count": 10,
   "id": "9f3d3bc6",
   "metadata": {},
   "outputs": [],
   "source": [
    "# Es para especificar como leer el dataframe\n",
    "# Para nuestro dataframe no necesitamos especificar algo extra...\n",
    "reader = Reader(rating_scale=(1,5))\n",
    "\n",
    "# Crear información de entrenamiento del dataframe...\n",
    "train_data_mf = Dataset.load_from_df(train_data[['userId', 'movieId', 'rating']], reader)\n",
    "\n",
    "# Construir el trainset de traindara.., It is of dataset format from surprise library..\n",
    "trainset = train_data_mf.build_full_trainset() "
   ]
  },
  {
   "cell_type": "code",
   "execution_count": 11,
   "id": "78c9e071",
   "metadata": {},
   "outputs": [],
   "source": [
    "# Crear un testdata para el dataframe...\n",
    "test_data_mf = Dataset.load_from_df(test_data[['userId', 'movieId', 'rating']], reader)\n",
    "\n",
    "# Construir un testset del traindata.., It is of dataset format from surprise library..\n",
    "testset = test_data_mf.build_full_trainset() "
   ]
  },
  {
   "cell_type": "code",
   "execution_count": 12,
   "id": "f1be61cf",
   "metadata": {},
   "outputs": [
    {
     "name": "stdout",
     "output_type": "stream",
     "text": [
      "Processing epoch 0\n",
      "Processing epoch 1\n",
      "Processing epoch 2\n",
      "Processing epoch 3\n",
      "Processing epoch 4\n",
      "Processing epoch 5\n",
      "Processing epoch 6\n",
      "Processing epoch 7\n",
      "Processing epoch 8\n",
      "Processing epoch 9\n",
      "Processing epoch 10\n",
      "Processing epoch 11\n",
      "Processing epoch 12\n",
      "Processing epoch 13\n",
      "Processing epoch 14\n",
      "Processing epoch 15\n",
      "Processing epoch 16\n",
      "Processing epoch 17\n",
      "Processing epoch 18\n",
      "Processing epoch 19\n"
     ]
    },
    {
     "data": {
      "text/plain": [
       "<surprise.prediction_algorithms.matrix_factorization.SVD at 0x2338cdf5f10>"
      ]
     },
     "execution_count": 12,
     "metadata": {},
     "output_type": "execute_result"
    }
   ],
   "source": [
    "svd = SVD(n_factors=100, biased=True, random_state=15, verbose=True)\n",
    "svd.fit(trainset)"
   ]
  },
  {
   "cell_type": "code",
   "execution_count": 13,
   "id": "39a685af",
   "metadata": {},
   "outputs": [],
   "source": [
    "# Guradando las predicciones de entrenamiento y obteniendolas del trainset\n",
    "train_preds = svd.test(trainset.build_testset())\n",
    "\n",
    "train_pred_mf = np.array([pred.est for pred in train_preds])"
   ]
  },
  {
   "cell_type": "code",
   "execution_count": 14,
   "id": "69cc94a9",
   "metadata": {},
   "outputs": [
    {
     "data": {
      "text/plain": [
       "array([4.30619518, 3.94173484, 4.54355566, ..., 3.06422925, 3.25430315,\n",
       "       2.69500677])"
      ]
     },
     "execution_count": 14,
     "metadata": {},
     "output_type": "execute_result"
    }
   ],
   "source": [
    "train_pred_mf"
   ]
  },
  {
   "cell_type": "code",
   "execution_count": 15,
   "id": "7f3992b7",
   "metadata": {},
   "outputs": [],
   "source": [
    "# Guardando las predicciones de prueba y obteniendolas del testset\n",
    "test_preds = svd.test(testset.build_testset())\n",
    "\n",
    "test_pred_mf = np.array([pred.est for pred in test_preds])"
   ]
  },
  {
   "cell_type": "code",
   "execution_count": 16,
   "id": "72aa60bb",
   "metadata": {},
   "outputs": [
    {
     "data": {
      "text/plain": [
       "array([3.42586544, 3.22903645, 3.02600702, ..., 3.56157074, 3.92178227,\n",
       "       3.32054949])"
      ]
     },
     "execution_count": 16,
     "metadata": {},
     "output_type": "execute_result"
    }
   ],
   "source": [
    "test_pred_mf"
   ]
  },
  {
   "cell_type": "markdown",
   "id": "49e23c06",
   "metadata": {},
   "source": [
    "# Preparando el data frame de entrenamiento"
   ]
  },
  {
   "cell_type": "code",
   "execution_count": 17,
   "id": "83ce918b",
   "metadata": {},
   "outputs": [],
   "source": [
    "# Creando una matriz dispersa (sparse matrix)\n",
    "\n",
    "train_sparse_matrix = sparse.csr_matrix((train_data.rating.values, (train_data.userId.values, train_data.movieId.values)))"
   ]
  },
  {
   "cell_type": "code",
   "execution_count": 18,
   "id": "5964d218",
   "metadata": {},
   "outputs": [
    {
     "data": {
      "text/plain": [
       "{'global': 3.5199769425298757}"
      ]
     },
     "execution_count": 18,
     "metadata": {},
     "output_type": "execute_result"
    }
   ],
   "source": [
    "#Promedio global de las peliculas por los usuarios\n",
    "train_averages = dict()\n",
    "\n",
    "#Obtener el promedio glob al the raitings in nuestro set de entrenamiento\n",
    "train_global_average = train_sparse_matrix.sum()/train_sparse_matrix.count_nonzero()\n",
    "train_averages['global'] = train_global_average\n",
    "train_averages"
   ]
  },
  {
   "cell_type": "code",
   "execution_count": 19,
   "id": "354399c4",
   "metadata": {},
   "outputs": [],
   "source": [
    "# Obtener el promedio de los usuarios en un diccionario (key: user_id / movie_id, value: abg raiting)\n",
    "\n",
    "def get_average_raitings(sparse_matrix, of_users):\n",
    "    \n",
    "    # Promedio de ratings de usuarios/axes\n",
    "    ax = 1 if of_users else 0 # 1 - User axes, 0 - Movie axes\n",
    "    \n",
    "    # \".A1\" es para convertir Column_Matrix a 1-D numpy array\n",
    "    sum_of_ratings = sparse_matrix.sum(axis=ax).A1\n",
    "    # Matriz booleana de matrices (Si un usuario calificó esa película o no)\n",
    "    is_rated = sparse_matrix != 0\n",
    "    # No de raitings de cada usuario o película\n",
    "    no_of_ratings = is_rated.sum(axis=ax).A1\n",
    "    \n",
    "    # max_user y max_movie ids en una matriz dispersa\n",
    "    u,m = sparse_matrix.shape\n",
    "    # Crear un diccionario de usuarios y sus ratings promedio\n",
    "    average_ratings = { i : sum_of_ratings[i]/no_of_ratings[i] for i in range(u if of_users else m) if no_of_ratings[i] != 0}\n",
    "    \n",
    "    # Devovler el diccionario the ratings promedio\n",
    "    return average_ratings"
   ]
  },
  {
   "cell_type": "code",
   "execution_count": 20,
   "id": "779dc573",
   "metadata": {},
   "outputs": [
    {
     "name": "stdout",
     "output_type": "stream",
     "text": [
      "\n",
      "Rating promedio del usuario 25:  4.8076923076923075\n"
     ]
    }
   ],
   "source": [
    "# Raiting promedio obtenido por un usario\n",
    "train_averages['user'] = get_average_raitings(train_sparse_matrix, of_users=True)\n",
    "print('\\nRating promedio del usuario 25: ', train_averages['user'][25])"
   ]
  },
  {
   "cell_type": "code",
   "execution_count": 21,
   "id": "bfa48ec8",
   "metadata": {},
   "outputs": [
    {
     "name": "stdout",
     "output_type": "stream",
     "text": [
      "\n",
      "Rating promedio de la película 40:  3.5\n"
     ]
    }
   ],
   "source": [
    "# Raiting promedio para una película\n",
    "train_averages['movie'] = get_average_raitings(train_sparse_matrix, of_users=False)\n",
    "print('\\nRating promedio de la película 40: ', train_averages['movie'][40])"
   ]
  },
  {
   "cell_type": "code",
   "execution_count": 22,
   "id": "e29b417f",
   "metadata": {},
   "outputs": [],
   "source": [
    "# Obtener usuarios, películas and ratings de nuestra matriz dispersa de meustras de entrenamiento\n",
    "train_users, train_movies, train_ratings = sparse.find(train_sparse_matrix)"
   ]
  },
  {
   "cell_type": "code",
   "execution_count": 23,
   "id": "3c10114d",
   "metadata": {
    "scrolled": true
   },
   "outputs": [
    {
     "name": "stdout",
     "output_type": "stream",
     "text": [
      "Done for 10000 rows----- 0:02:29.580437\n",
      "Done for 20000 rows----- 0:04:57.404314\n",
      "Done for 30000 rows----- 0:07:47.246384\n",
      "Done for 40000 rows----- 0:10:40.921480\n",
      "Done for 50000 rows----- 0:13:50.270658\n",
      "Done for 60000 rows----- 0:16:57.331961\n",
      "Done for 70000 rows----- 0:19:54.456105\n",
      "Done for 80000 rows----- 0:22:48.785604\n",
      "Tiempo total tomado:  0:22:59.357380\n"
     ]
    }
   ],
   "source": [
    "from datetime import datetime\n",
    "from sklearn.metrics.pairwise import cosine_similarity\n",
    "\n",
    "final_data = pd.DataFrame()\n",
    "count = 0\n",
    "start = datetime.now()\n",
    "\n",
    "for (user, movie, rating)  in zip(train_users, train_movies, train_ratings):\n",
    "            #print(user, movie)    \n",
    "            \n",
    "            # Calificacion de \"movie\" por similaridad de usuario de \"user\"\n",
    "            # Calcular la similaridad de usariores de \"user\"        \n",
    "            user_sim = cosine_similarity(train_sparse_matrix[user], train_sparse_matrix).ravel()\n",
    "            top_sim_users = user_sim.argsort()[::-1][1:] # we are ignoring 'The User' from its similar users.\n",
    "            # Obtener los ratings de los usuarios más similares para esta película\n",
    "            top_ratings = train_sparse_matrix[top_sim_users, movie].toarray().ravel()\n",
    "            # Vamos a hacer una longitud de \"5\" agregando el promedio de las peliculas\n",
    "            top_sim_users_ratings = list(top_ratings[top_ratings != 0][:5])\n",
    "            top_sim_users_ratings.extend([train_averages['movie'][movie]]*(5 - len(top_sim_users_ratings)))\n",
    "            # print(top_sim_users_ratings, end=\" \")    \n",
    "\n",
    "\n",
    "            # Ratings de \"user\" para peliculas similares de \"movie\"\n",
    "            # Calcular las peliculas similares de \"movie\"        \n",
    "            movie_sim = cosine_similarity(train_sparse_matrix[:,movie].T, train_sparse_matrix.T).ravel()\n",
    "            top_sim_movies = movie_sim.argsort()[::-1][1:] # we are ignoring 'The User' from its similar users.\n",
    "            # Obtener los ratings de las películas más similares calificados por el usuario\n",
    "            top_ratings = train_sparse_matrix[user, top_sim_movies].toarray().ravel()\n",
    "            # Vamos a hacer una longitud de \"5\" agregando el promedio de los usuarios\n",
    "            top_sim_movies_ratings = list(top_ratings[top_ratings != 0][:5])\n",
    "            top_sim_movies_ratings.extend([train_averages['user'][user]]*(5-len(top_sim_movies_ratings))) \n",
    "            # print(top_sim_movies_ratings, end=\" : -- \")\n",
    "\n",
    "            # Preparar la fila para guardarlo en un archivo\n",
    "            row = list()\n",
    "            row.append(user)\n",
    "            row.append(movie)\n",
    "            # Now add the other features to this data...\n",
    "            row.append(train_averages['global']) # first feature\n",
    "            # next 5 features are similar_users \"movie\" ratings\n",
    "            row.extend(top_sim_users_ratings)\n",
    "            # next 5 features are \"user\" ratings for similar_movies\n",
    "            row.extend(top_sim_movies_ratings)\n",
    "            # Avg_user rating\n",
    "            row.append(train_averages['user'][user])\n",
    "            # Avg_movie rating\n",
    "            row.append(train_averages['movie'][movie])\n",
    "\n",
    "            # finalley, The actual Rating of this user-movie pair...\n",
    "            row.append(rating)\n",
    "            count = count + 1\n",
    "            final_data = pd.concat([final_data, pd.DataFrame([row])], ignore_index=True)\n",
    "        \n",
    "            if (count)%10000 == 0:\n",
    "                # print(','.join(map(str, row)))\n",
    "                print(\"Done for {} rows----- {}\".format(count, datetime.now() - start))\n",
    "                \n",
    "print(\"Tiempo total tomado: \",datetime.now() - start)"
   ]
  },
  {
   "cell_type": "markdown",
   "id": "fed02dec",
   "metadata": {},
   "source": [
    "# Tiempo estimado mas del esperado\n",
    "\n",
    "Una alternativa es reducir el tamaño de los datasets que se estan tomando para entrenar el modelo por lo que procederé a evaluar los datasets y tomar decisiones para efectos prácticos de aprendizaje\n",
    "\n",
    "### Tiempo de entrenamiento demasiado largo por las dimensiones de los datasets, se procederá a reducir el train_data y el test_data a alrededor de un 0.3% del tamaño original dejando así una longitud cercana a 80000 en train_data y 15000 en test_data"
   ]
  },
  {
   "cell_type": "code",
   "execution_count": 25,
   "id": "3d88cc21",
   "metadata": {},
   "outputs": [],
   "source": [
    "final_data.columns = ['user', 'movie', 'GAvg', 'sur1', 'sur2', 'sur3', 'sur4', 'sur5', 'smr1', 'smr2', 'smr3', 'smr4',\n",
    "                      'smr5', 'UAvg', 'MAvg', 'rating']"
   ]
  },
  {
   "cell_type": "code",
   "execution_count": 26,
   "id": "55fe3690",
   "metadata": {},
   "outputs": [
    {
     "data": {
      "text/html": [
       "<div>\n",
       "<style scoped>\n",
       "    .dataframe tbody tr th:only-of-type {\n",
       "        vertical-align: middle;\n",
       "    }\n",
       "\n",
       "    .dataframe tbody tr th {\n",
       "        vertical-align: top;\n",
       "    }\n",
       "\n",
       "    .dataframe thead th {\n",
       "        text-align: right;\n",
       "    }\n",
       "</style>\n",
       "<table border=\"1\" class=\"dataframe\">\n",
       "  <thead>\n",
       "    <tr style=\"text-align: right;\">\n",
       "      <th></th>\n",
       "      <th>user</th>\n",
       "      <th>movie</th>\n",
       "      <th>GAvg</th>\n",
       "      <th>sur1</th>\n",
       "      <th>sur2</th>\n",
       "      <th>sur3</th>\n",
       "      <th>sur4</th>\n",
       "      <th>sur5</th>\n",
       "      <th>smr1</th>\n",
       "      <th>smr2</th>\n",
       "      <th>smr3</th>\n",
       "      <th>smr4</th>\n",
       "      <th>smr5</th>\n",
       "      <th>UAvg</th>\n",
       "      <th>MAvg</th>\n",
       "      <th>rating</th>\n",
       "    </tr>\n",
       "  </thead>\n",
       "  <tbody>\n",
       "    <tr>\n",
       "      <th>0</th>\n",
       "      <td>1</td>\n",
       "      <td>1</td>\n",
       "      <td>3.519977</td>\n",
       "      <td>2.0</td>\n",
       "      <td>5.0</td>\n",
       "      <td>4.0</td>\n",
       "      <td>4.0</td>\n",
       "      <td>4.5</td>\n",
       "      <td>3.0</td>\n",
       "      <td>4.0</td>\n",
       "      <td>3.0</td>\n",
       "      <td>5.0</td>\n",
       "      <td>5.0</td>\n",
       "      <td>4.366379</td>\n",
       "      <td>3.954545</td>\n",
       "      <td>4.0</td>\n",
       "    </tr>\n",
       "    <tr>\n",
       "      <th>1</th>\n",
       "      <td>5</td>\n",
       "      <td>1</td>\n",
       "      <td>3.519977</td>\n",
       "      <td>4.0</td>\n",
       "      <td>5.0</td>\n",
       "      <td>4.0</td>\n",
       "      <td>4.0</td>\n",
       "      <td>5.0</td>\n",
       "      <td>4.0</td>\n",
       "      <td>3.0</td>\n",
       "      <td>3.0</td>\n",
       "      <td>5.0</td>\n",
       "      <td>5.0</td>\n",
       "      <td>3.636364</td>\n",
       "      <td>3.954545</td>\n",
       "      <td>4.0</td>\n",
       "    </tr>\n",
       "    <tr>\n",
       "      <th>2</th>\n",
       "      <td>7</td>\n",
       "      <td>1</td>\n",
       "      <td>3.519977</td>\n",
       "      <td>4.0</td>\n",
       "      <td>4.0</td>\n",
       "      <td>5.0</td>\n",
       "      <td>4.5</td>\n",
       "      <td>4.0</td>\n",
       "      <td>4.5</td>\n",
       "      <td>4.5</td>\n",
       "      <td>5.0</td>\n",
       "      <td>4.0</td>\n",
       "      <td>3.0</td>\n",
       "      <td>3.230263</td>\n",
       "      <td>3.954545</td>\n",
       "      <td>4.5</td>\n",
       "    </tr>\n",
       "    <tr>\n",
       "      <th>3</th>\n",
       "      <td>15</td>\n",
       "      <td>1</td>\n",
       "      <td>3.519977</td>\n",
       "      <td>5.0</td>\n",
       "      <td>3.0</td>\n",
       "      <td>4.0</td>\n",
       "      <td>4.0</td>\n",
       "      <td>4.0</td>\n",
       "      <td>3.5</td>\n",
       "      <td>3.0</td>\n",
       "      <td>5.0</td>\n",
       "      <td>3.0</td>\n",
       "      <td>3.0</td>\n",
       "      <td>3.448148</td>\n",
       "      <td>3.954545</td>\n",
       "      <td>2.5</td>\n",
       "    </tr>\n",
       "    <tr>\n",
       "      <th>4</th>\n",
       "      <td>17</td>\n",
       "      <td>1</td>\n",
       "      <td>3.519977</td>\n",
       "      <td>4.0</td>\n",
       "      <td>5.0</td>\n",
       "      <td>4.0</td>\n",
       "      <td>4.0</td>\n",
       "      <td>4.5</td>\n",
       "      <td>4.0</td>\n",
       "      <td>4.5</td>\n",
       "      <td>5.0</td>\n",
       "      <td>5.0</td>\n",
       "      <td>5.0</td>\n",
       "      <td>4.209524</td>\n",
       "      <td>3.954545</td>\n",
       "      <td>4.5</td>\n",
       "    </tr>\n",
       "    <tr>\n",
       "      <th>...</th>\n",
       "      <td>...</td>\n",
       "      <td>...</td>\n",
       "      <td>...</td>\n",
       "      <td>...</td>\n",
       "      <td>...</td>\n",
       "      <td>...</td>\n",
       "      <td>...</td>\n",
       "      <td>...</td>\n",
       "      <td>...</td>\n",
       "      <td>...</td>\n",
       "      <td>...</td>\n",
       "      <td>...</td>\n",
       "      <td>...</td>\n",
       "      <td>...</td>\n",
       "      <td>...</td>\n",
       "      <td>...</td>\n",
       "    </tr>\n",
       "    <tr>\n",
       "      <th>80663</th>\n",
       "      <td>184</td>\n",
       "      <td>193581</td>\n",
       "      <td>3.519977</td>\n",
       "      <td>4.0</td>\n",
       "      <td>4.0</td>\n",
       "      <td>4.0</td>\n",
       "      <td>4.0</td>\n",
       "      <td>4.0</td>\n",
       "      <td>5.0</td>\n",
       "      <td>3.5</td>\n",
       "      <td>4.0</td>\n",
       "      <td>3.5</td>\n",
       "      <td>4.5</td>\n",
       "      <td>3.705224</td>\n",
       "      <td>4.000000</td>\n",
       "      <td>4.0</td>\n",
       "    </tr>\n",
       "    <tr>\n",
       "      <th>80664</th>\n",
       "      <td>184</td>\n",
       "      <td>193583</td>\n",
       "      <td>3.519977</td>\n",
       "      <td>3.5</td>\n",
       "      <td>3.5</td>\n",
       "      <td>3.5</td>\n",
       "      <td>3.5</td>\n",
       "      <td>3.5</td>\n",
       "      <td>5.0</td>\n",
       "      <td>3.5</td>\n",
       "      <td>4.0</td>\n",
       "      <td>3.5</td>\n",
       "      <td>4.5</td>\n",
       "      <td>3.705224</td>\n",
       "      <td>3.500000</td>\n",
       "      <td>3.5</td>\n",
       "    </tr>\n",
       "    <tr>\n",
       "      <th>80665</th>\n",
       "      <td>184</td>\n",
       "      <td>193585</td>\n",
       "      <td>3.519977</td>\n",
       "      <td>3.5</td>\n",
       "      <td>3.5</td>\n",
       "      <td>3.5</td>\n",
       "      <td>3.5</td>\n",
       "      <td>3.5</td>\n",
       "      <td>5.0</td>\n",
       "      <td>3.5</td>\n",
       "      <td>4.0</td>\n",
       "      <td>3.5</td>\n",
       "      <td>4.5</td>\n",
       "      <td>3.705224</td>\n",
       "      <td>3.500000</td>\n",
       "      <td>3.5</td>\n",
       "    </tr>\n",
       "    <tr>\n",
       "      <th>80666</th>\n",
       "      <td>184</td>\n",
       "      <td>193587</td>\n",
       "      <td>3.519977</td>\n",
       "      <td>3.5</td>\n",
       "      <td>3.5</td>\n",
       "      <td>3.5</td>\n",
       "      <td>3.5</td>\n",
       "      <td>3.5</td>\n",
       "      <td>5.0</td>\n",
       "      <td>3.5</td>\n",
       "      <td>4.0</td>\n",
       "      <td>3.5</td>\n",
       "      <td>4.5</td>\n",
       "      <td>3.705224</td>\n",
       "      <td>3.500000</td>\n",
       "      <td>3.5</td>\n",
       "    </tr>\n",
       "    <tr>\n",
       "      <th>80667</th>\n",
       "      <td>331</td>\n",
       "      <td>193609</td>\n",
       "      <td>3.519977</td>\n",
       "      <td>4.0</td>\n",
       "      <td>4.0</td>\n",
       "      <td>4.0</td>\n",
       "      <td>4.0</td>\n",
       "      <td>4.0</td>\n",
       "      <td>4.0</td>\n",
       "      <td>4.0</td>\n",
       "      <td>5.0</td>\n",
       "      <td>4.0</td>\n",
       "      <td>5.0</td>\n",
       "      <td>3.627976</td>\n",
       "      <td>4.000000</td>\n",
       "      <td>4.0</td>\n",
       "    </tr>\n",
       "  </tbody>\n",
       "</table>\n",
       "<p>80668 rows × 16 columns</p>\n",
       "</div>"
      ],
      "text/plain": [
       "       user   movie      GAvg  sur1  sur2  sur3  sur4  sur5  smr1  smr2  smr3  \\\n",
       "0         1       1  3.519977   2.0   5.0   4.0   4.0   4.5   3.0   4.0   3.0   \n",
       "1         5       1  3.519977   4.0   5.0   4.0   4.0   5.0   4.0   3.0   3.0   \n",
       "2         7       1  3.519977   4.0   4.0   5.0   4.5   4.0   4.5   4.5   5.0   \n",
       "3        15       1  3.519977   5.0   3.0   4.0   4.0   4.0   3.5   3.0   5.0   \n",
       "4        17       1  3.519977   4.0   5.0   4.0   4.0   4.5   4.0   4.5   5.0   \n",
       "...     ...     ...       ...   ...   ...   ...   ...   ...   ...   ...   ...   \n",
       "80663   184  193581  3.519977   4.0   4.0   4.0   4.0   4.0   5.0   3.5   4.0   \n",
       "80664   184  193583  3.519977   3.5   3.5   3.5   3.5   3.5   5.0   3.5   4.0   \n",
       "80665   184  193585  3.519977   3.5   3.5   3.5   3.5   3.5   5.0   3.5   4.0   \n",
       "80666   184  193587  3.519977   3.5   3.5   3.5   3.5   3.5   5.0   3.5   4.0   \n",
       "80667   331  193609  3.519977   4.0   4.0   4.0   4.0   4.0   4.0   4.0   5.0   \n",
       "\n",
       "       smr4  smr5      UAvg      MAvg  rating  \n",
       "0       5.0   5.0  4.366379  3.954545     4.0  \n",
       "1       5.0   5.0  3.636364  3.954545     4.0  \n",
       "2       4.0   3.0  3.230263  3.954545     4.5  \n",
       "3       3.0   3.0  3.448148  3.954545     2.5  \n",
       "4       5.0   5.0  4.209524  3.954545     4.5  \n",
       "...     ...   ...       ...       ...     ...  \n",
       "80663   3.5   4.5  3.705224  4.000000     4.0  \n",
       "80664   3.5   4.5  3.705224  3.500000     3.5  \n",
       "80665   3.5   4.5  3.705224  3.500000     3.5  \n",
       "80666   3.5   4.5  3.705224  3.500000     3.5  \n",
       "80667   4.0   5.0  3.627976  4.000000     4.0  \n",
       "\n",
       "[80668 rows x 16 columns]"
      ]
     },
     "execution_count": 26,
     "metadata": {},
     "output_type": "execute_result"
    }
   ],
   "source": [
    "final_data"
   ]
  },
  {
   "cell_type": "code",
   "execution_count": 27,
   "id": "4ec05b20",
   "metadata": {},
   "outputs": [],
   "source": [
    "#Guardar al terminar\n",
    "final_data.to_csv('final_data.csv', index=False)"
   ]
  },
  {
   "cell_type": "code",
   "execution_count": 28,
   "id": "1739ec9f",
   "metadata": {},
   "outputs": [
    {
     "data": {
      "text/html": [
       "<div>\n",
       "<style scoped>\n",
       "    .dataframe tbody tr th:only-of-type {\n",
       "        vertical-align: middle;\n",
       "    }\n",
       "\n",
       "    .dataframe tbody tr th {\n",
       "        vertical-align: top;\n",
       "    }\n",
       "\n",
       "    .dataframe thead th {\n",
       "        text-align: right;\n",
       "    }\n",
       "</style>\n",
       "<table border=\"1\" class=\"dataframe\">\n",
       "  <thead>\n",
       "    <tr style=\"text-align: right;\">\n",
       "      <th></th>\n",
       "      <th>user</th>\n",
       "      <th>movie</th>\n",
       "      <th>GAvg</th>\n",
       "      <th>sur1</th>\n",
       "      <th>sur2</th>\n",
       "      <th>sur3</th>\n",
       "      <th>sur4</th>\n",
       "      <th>sur5</th>\n",
       "      <th>smr1</th>\n",
       "      <th>smr2</th>\n",
       "      <th>smr3</th>\n",
       "      <th>smr4</th>\n",
       "      <th>smr5</th>\n",
       "      <th>UAvg</th>\n",
       "      <th>MAvg</th>\n",
       "      <th>rating</th>\n",
       "      <th>mf_svd</th>\n",
       "    </tr>\n",
       "  </thead>\n",
       "  <tbody>\n",
       "    <tr>\n",
       "      <th>0</th>\n",
       "      <td>1</td>\n",
       "      <td>1</td>\n",
       "      <td>3.519977</td>\n",
       "      <td>2.0</td>\n",
       "      <td>5.0</td>\n",
       "      <td>4.0</td>\n",
       "      <td>4.0</td>\n",
       "      <td>4.5</td>\n",
       "      <td>3.0</td>\n",
       "      <td>4.0</td>\n",
       "      <td>3.0</td>\n",
       "      <td>5.0</td>\n",
       "      <td>5.0</td>\n",
       "      <td>4.366379</td>\n",
       "      <td>3.954545</td>\n",
       "      <td>4.0</td>\n",
       "      <td>4.306195</td>\n",
       "    </tr>\n",
       "    <tr>\n",
       "      <th>1</th>\n",
       "      <td>5</td>\n",
       "      <td>1</td>\n",
       "      <td>3.519977</td>\n",
       "      <td>4.0</td>\n",
       "      <td>5.0</td>\n",
       "      <td>4.0</td>\n",
       "      <td>4.0</td>\n",
       "      <td>5.0</td>\n",
       "      <td>4.0</td>\n",
       "      <td>3.0</td>\n",
       "      <td>3.0</td>\n",
       "      <td>5.0</td>\n",
       "      <td>5.0</td>\n",
       "      <td>3.636364</td>\n",
       "      <td>3.954545</td>\n",
       "      <td>4.0</td>\n",
       "      <td>3.941735</td>\n",
       "    </tr>\n",
       "    <tr>\n",
       "      <th>2</th>\n",
       "      <td>7</td>\n",
       "      <td>1</td>\n",
       "      <td>3.519977</td>\n",
       "      <td>4.0</td>\n",
       "      <td>4.0</td>\n",
       "      <td>5.0</td>\n",
       "      <td>4.5</td>\n",
       "      <td>4.0</td>\n",
       "      <td>4.5</td>\n",
       "      <td>4.5</td>\n",
       "      <td>5.0</td>\n",
       "      <td>4.0</td>\n",
       "      <td>3.0</td>\n",
       "      <td>3.230263</td>\n",
       "      <td>3.954545</td>\n",
       "      <td>4.5</td>\n",
       "      <td>4.543556</td>\n",
       "    </tr>\n",
       "    <tr>\n",
       "      <th>3</th>\n",
       "      <td>15</td>\n",
       "      <td>1</td>\n",
       "      <td>3.519977</td>\n",
       "      <td>5.0</td>\n",
       "      <td>3.0</td>\n",
       "      <td>4.0</td>\n",
       "      <td>4.0</td>\n",
       "      <td>4.0</td>\n",
       "      <td>3.5</td>\n",
       "      <td>3.0</td>\n",
       "      <td>5.0</td>\n",
       "      <td>3.0</td>\n",
       "      <td>3.0</td>\n",
       "      <td>3.448148</td>\n",
       "      <td>3.954545</td>\n",
       "      <td>2.5</td>\n",
       "      <td>4.677380</td>\n",
       "    </tr>\n",
       "    <tr>\n",
       "      <th>4</th>\n",
       "      <td>17</td>\n",
       "      <td>1</td>\n",
       "      <td>3.519977</td>\n",
       "      <td>4.0</td>\n",
       "      <td>5.0</td>\n",
       "      <td>4.0</td>\n",
       "      <td>4.0</td>\n",
       "      <td>4.5</td>\n",
       "      <td>4.0</td>\n",
       "      <td>4.5</td>\n",
       "      <td>5.0</td>\n",
       "      <td>5.0</td>\n",
       "      <td>5.0</td>\n",
       "      <td>4.209524</td>\n",
       "      <td>3.954545</td>\n",
       "      <td>4.5</td>\n",
       "      <td>4.810359</td>\n",
       "    </tr>\n",
       "  </tbody>\n",
       "</table>\n",
       "</div>"
      ],
      "text/plain": [
       "   user  movie      GAvg  sur1  sur2  sur3  sur4  sur5  smr1  smr2  smr3  \\\n",
       "0     1      1  3.519977   2.0   5.0   4.0   4.0   4.5   3.0   4.0   3.0   \n",
       "1     5      1  3.519977   4.0   5.0   4.0   4.0   5.0   4.0   3.0   3.0   \n",
       "2     7      1  3.519977   4.0   4.0   5.0   4.5   4.0   4.5   4.5   5.0   \n",
       "3    15      1  3.519977   5.0   3.0   4.0   4.0   4.0   3.5   3.0   5.0   \n",
       "4    17      1  3.519977   4.0   5.0   4.0   4.0   4.5   4.0   4.5   5.0   \n",
       "\n",
       "   smr4  smr5      UAvg      MAvg  rating    mf_svd  \n",
       "0   5.0   5.0  4.366379  3.954545     4.0  4.306195  \n",
       "1   5.0   5.0  3.636364  3.954545     4.0  3.941735  \n",
       "2   4.0   3.0  3.230263  3.954545     4.5  4.543556  \n",
       "3   3.0   3.0  3.448148  3.954545     2.5  4.677380  \n",
       "4   5.0   5.0  4.209524  3.954545     4.5  4.810359  "
      ]
     },
     "execution_count": 28,
     "metadata": {},
     "output_type": "execute_result"
    }
   ],
   "source": [
    "final_data['mf_svd'] = train_pred_mf\n",
    "final_data.head()"
   ]
  },
  {
   "cell_type": "markdown",
   "id": "9da34082",
   "metadata": {},
   "source": [
    "# Preparando la Información de Prueba"
   ]
  },
  {
   "cell_type": "code",
   "execution_count": null,
   "id": "16ed03b6",
   "metadata": {},
   "outputs": [],
   "source": [
    "# Creando la matriz dispersa\n",
    "test_sparse_matrix = sparse.csr_matrix((test_data.rating.values, (test_data.userId.values, test_data.movieId.values)))"
   ]
  },
  {
   "cell_type": "code",
   "execution_count": null,
   "id": "0f741207",
   "metadata": {},
   "outputs": [],
   "source": [
    "# Promedio global de todas las peliculas por todos los usuarios\n",
    "\n",
    "test_Averages = dict()\n",
    "\n",
    "# Obtener el promedio global de los ratings en nuestro set de entrenamiento\n",
    "test_global_average = test_sparse_matrix.sum()/test_sparse_matrix.count_nonzero()\n",
    "test_averages['global'] = test_global_average\n",
    "test_averages"
   ]
  },
  {
   "cell_type": "markdown",
   "id": "0fccd5b1",
   "metadata": {},
   "source": [
    "## Esta repetido!!\n",
    "#### Obtener el promedio de los usuarios en diccionario (key: user_id/movie_id, value: avg rating)\n",
    "\n",
    "def get_average_ratings(sparse_matrix, of_users):\n",
    "    \n",
    "    # Promedio de ratings de usuarios/axes\n",
    "    ax = 1 if of_users else 0 # 1 - User axes, 0 - Movie axes\n",
    "    \n",
    "    # \".A1\" es para convertir Column_Matrix a 1-D numpy array\n",
    "    sum_of_ratings = sparse_matrix.sum(axis=ax).A1\n",
    "    # Matriz booleana de matrices (Si un usuario calificó esa película o no)\n",
    "    is_rated = sparse_matrix != 0\n",
    "    # No de raitings de cada usuario o película\n",
    "    no_of_ratings = is_rated.sum(axis=ax).A1\n",
    "    \n",
    "    # max_user y max_movie ids en una matriz dispersa\n",
    "    u,m = sparse_matrix.shape\n",
    "    # Crear un diccionario de usuarios y sus ratings promedio\n",
    "    average_ratings = { i : sum_of_ratings[i]/no_of_ratings[i] for i in range(u if of_users else m) if no_of_ratings[i] != 0}\n",
    "    \n",
    "    # Devovler el diccionario the ratings promedio\n",
    "    return average_ratings"
   ]
  },
  {
   "cell_type": "code",
   "execution_count": null,
   "id": "d3655be7",
   "metadata": {},
   "outputs": [],
   "source": [
    "# Ratings promedio por usuario\n",
    "test_averages['user'] = get_average_raitings(test_sparse_matrix, od_users=True)\n",
    "print('\\n Rating promedio del usuario 27:', test_averages['user'][27])"
   ]
  },
  {
   "cell_type": "code",
   "execution_count": null,
   "id": "0e27b183",
   "metadata": {},
   "outputs": [],
   "source": [
    "# Rating promedio por pelicula\n",
    "test_averages['movie'] = get_average_raitings(test_sparse_matrix, of_users=False)\n",
    "print('\\n Rating promedio de la pelicula 52:', test_averages['user'][52])"
   ]
  },
  {
   "cell_type": "code",
   "execution_count": null,
   "id": "63841746",
   "metadata": {},
   "outputs": [],
   "source": [
    "# Obtener usuarios, peliculas y ratings de la meustra de la matriz de entramiento dispersa\n",
    "test_users, test_movies, test_ratings = sparse.find(test_sparse_matrix)"
   ]
  },
  {
   "cell_type": "code",
   "execution_count": null,
   "id": "b5e35fc0",
   "metadata": {},
   "outputs": [],
   "source": [
    "final_test_data = pd.DataFrame()\n",
    "count = 0\n",
    "\n",
    "for (user, movie, rating) in zip(test_users, test_movies, test_ratings):\n",
    "    start = datetime.now()\n",
    "    #print(user,movie)\n",
    "    \n",
    "    # Ratings de peliculas de \"movie\" por similaridad de usuarios de \"user\"\n",
    "    # Calcular la similaridad de los usuarios de \"user\"\n",
    "    user_sim = cosine_similarity(test_sparse_matrix[user], test_sparse_matrix). ravel()\n",
    "    top_sim_users = user_sim.argsort()[::-1][1:]\n",
    "    # Obtener los ratings de los usuarios mas similares para la pelicula\n",
    "    top_ratings = test_sparse_matrix[top_sim_users, movie].toarray().ravel()\n",
    "    # Vamos a hacer una longitud de \"5\" añadiendo el promedio de las peliculas\n",
    "    top_sim_users_ratings = list(top_ratings[top_ratings != 0][:5])\n",
    "    top_sim_users_ratings.extend([test_averages['movie'][movie]]*(5 - len(top_sim_users_ratings)))\n",
    "    #print(top_sim_users_ratings, end=\" \")\n",
    "    \n",
    "    # Ratings de usuarios \"user\" para peliculas similares de \"movie\"\n",
    "    # Calcular las peliculas similares de \"movie\"\n",
    "    movie_sim = cosine_similarity(test_sparse_matrix[:, movie].T, test_sparse_matrix.T).ravel()\n",
    "    top_sim_movies = movie_sim.argsort()[::-1][1:]\n",
    "    # Obtener el rating de las peliculas mas similares calificada por el usuario\n",
    "    top_ratings = test_sparse_matrix[user, top_sim_movies].toarray().ravel()\n",
    "    # Vamos a hacerlo una longitud de \"5\" añadiendo el promedio de los usuarios\n",
    "    top_sim_movies_ratings = list(top_ratings[top_ratings != 0][:5])\n",
    "    top_sim_movies_ratings.extend([test_averages['user'][user]]*(5 - len(top_sim_movies_ratings)))\n",
    "    #print(top_sim_movies_ratings, end=\" \")\n",
    "    \n",
    "    # Preparar la fila para guardarlo en un archivo\n",
    "    row = list()\n",
    "    row.append(user)\n",
    "    row.append(movie)\n",
    "    row.append(train_averages['global'])\n",
    "    row.extend(top_sim_users_ratings)\n",
    "    row.extend(top_sim_movies_ratings)\n",
    "    row.append(train_averages['user'][user])\n",
    "    row.append(train_averages['movie'][movie])\n",
    "\n",
    "    row.append(rating)\n",
    "    count = count + 1\n",
    "    final_data = pd.concat([final_data, pd.DataFrame([row])], ignore_index=True)\n",
    "\n",
    "    if (count)%10000 == 0:\n",
    "        # print(','.join(map(str, row)))\n",
    "        print(\"Done for {} rows----- {}\".format(count, datetime.now() - start))\n",
    "                \n",
    "print(datetime.now() - start)"
   ]
  },
  {
   "cell_type": "code",
   "execution_count": null,
   "id": "7bc6cabf",
   "metadata": {},
   "outputs": [],
   "source": [
    "final_test_data.columns = ['user', 'movie', 'GAvg', 'sur1', 'sur2', 'sur3', 'sur4', 'sur5', 'smr1', 'smr2', 'smr3', 'smr4',\n",
    "                      'smr5', 'UAvg', 'MAvg', 'rating']"
   ]
  },
  {
   "cell_type": "code",
   "execution_count": null,
   "id": "b632d409",
   "metadata": {},
   "outputs": [],
   "source": []
  },
  {
   "cell_type": "code",
   "execution_count": null,
   "id": "7963bff1",
   "metadata": {},
   "outputs": [],
   "source": []
  }
 ],
 "metadata": {
  "kernelspec": {
   "display_name": "Python 3 (ipykernel)",
   "language": "python",
   "name": "python3"
  },
  "language_info": {
   "codemirror_mode": {
    "name": "ipython",
    "version": 3
   },
   "file_extension": ".py",
   "mimetype": "text/x-python",
   "name": "python",
   "nbconvert_exporter": "python",
   "pygments_lexer": "ipython3",
   "version": "3.9.15"
  }
 },
 "nbformat": 4,
 "nbformat_minor": 5
}
